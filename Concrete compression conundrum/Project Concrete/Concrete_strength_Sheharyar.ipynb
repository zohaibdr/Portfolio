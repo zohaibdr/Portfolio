{
  "cells": [
    {
      "cell_type": "code",
      "execution_count": 1,
      "metadata": {
        "colab": {
          "base_uri": "https://localhost:8080/",
          "height": 73
        },
        "id": "kSdWD1x2_Qih",
        "outputId": "a6fba074-6aab-4a39-92f1-7d6f075e3ded"
      },
      "outputs": [],
      "source": [
        "import numpy as np\n",
        "import pandas as pd\n",
        "import matplotlib.pyplot as plt\n",
        "import seaborn as sns\n",
        "%matplotlib inline\n",
        "\n",
        "import warnings\n",
        "warnings.filterwarnings('ignore')\n",
        "\n",
        "# from google.colab import files\n",
        "# uploaded = files.upload() "
      ]
    },
    {
      "cell_type": "code",
      "execution_count": 2,
      "metadata": {
        "colab": {
          "base_uri": "https://localhost:8080/",
          "height": 206
        },
        "id": "0aHhr3HN_g1J",
        "outputId": "c906da15-8c8d-4d4d-b324-bb9317763736"
      },
      "outputs": [
        {
          "name": "stdout",
          "output_type": "stream",
          "text": [
            "<class 'pandas.core.frame.DataFrame'>\n",
            "RangeIndex: 1030 entries, 0 to 1029\n",
            "Data columns (total 9 columns):\n",
            " #   Column                                                 Non-Null Count  Dtype  \n",
            "---  ------                                                 --------------  -----  \n",
            " 0   Cement (component 1)(kg in a m^3 mixture)              1030 non-null   float64\n",
            " 1   Blast Furnace Slag (component 2)(kg in a m^3 mixture)  1030 non-null   float64\n",
            " 2   Fly Ash (component 3)(kg in a m^3 mixture)             1030 non-null   float64\n",
            " 3   Water  (component 4)(kg in a m^3 mixture)              1030 non-null   float64\n",
            " 4   Superplasticizer (component 5)(kg in a m^3 mixture)    1030 non-null   float64\n",
            " 5   Coarse Aggregate  (component 6)(kg in a m^3 mixture)   1030 non-null   float64\n",
            " 6   Fine Aggregate (component 7)(kg in a m^3 mixture)      1030 non-null   float64\n",
            " 7   Age (day)                                              1030 non-null   int64  \n",
            " 8   Concrete compressive strength(MPa, megapascals)        1030 non-null   float64\n",
            "dtypes: float64(8), int64(1)\n",
            "memory usage: 72.5 KB\n"
          ]
        }
      ],
      "source": [
        "con=pd.read_csv('concrete_data.csv')\n",
        "con.info()"
      ]
    },
    {
      "cell_type": "code",
      "execution_count": 3,
      "metadata": {
        "colab": {
          "base_uri": "https://localhost:8080/"
        },
        "id": "xzzuVM-E_nEn",
        "outputId": "93cac086-86f3-4909-e514-8f02b7d1a9be"
      },
      "outputs": [
        {
          "data": {
            "text/plain": [
              "(1030, 9)"
            ]
          },
          "execution_count": 3,
          "metadata": {},
          "output_type": "execute_result"
        }
      ],
      "source": [
        "con.shape"
      ]
    },
    {
      "cell_type": "code",
      "execution_count": 4,
      "metadata": {
        "colab": {
          "base_uri": "https://localhost:8080/"
        },
        "id": "D4g_n52R_pjx",
        "outputId": "9dcce001-3372-4898-e871-9056126774e0"
      },
      "outputs": [
        {
          "name": "stdout",
          "output_type": "stream",
          "text": [
            "<class 'pandas.core.frame.DataFrame'>\n",
            "RangeIndex: 1030 entries, 0 to 1029\n",
            "Data columns (total 9 columns):\n",
            " #   Column                                                 Non-Null Count  Dtype  \n",
            "---  ------                                                 --------------  -----  \n",
            " 0   Cement (component 1)(kg in a m^3 mixture)              1030 non-null   float64\n",
            " 1   Blast Furnace Slag (component 2)(kg in a m^3 mixture)  1030 non-null   float64\n",
            " 2   Fly Ash (component 3)(kg in a m^3 mixture)             1030 non-null   float64\n",
            " 3   Water  (component 4)(kg in a m^3 mixture)              1030 non-null   float64\n",
            " 4   Superplasticizer (component 5)(kg in a m^3 mixture)    1030 non-null   float64\n",
            " 5   Coarse Aggregate  (component 6)(kg in a m^3 mixture)   1030 non-null   float64\n",
            " 6   Fine Aggregate (component 7)(kg in a m^3 mixture)      1030 non-null   float64\n",
            " 7   Age (day)                                              1030 non-null   int64  \n",
            " 8   Concrete compressive strength(MPa, megapascals)        1030 non-null   float64\n",
            "dtypes: float64(8), int64(1)\n",
            "memory usage: 72.5 KB\n"
          ]
        }
      ],
      "source": [
        "con.info()"
      ]
    },
    {
      "cell_type": "code",
      "execution_count": 5,
      "metadata": {
        "colab": {
          "base_uri": "https://localhost:8080/"
        },
        "id": "mhkDH8CBEIX6",
        "outputId": "7bf971af-ad30-4425-99f5-aae1dba546f8"
      },
      "outputs": [
        {
          "data": {
            "text/plain": [
              "Cement (component 1)(kg in a m^3 mixture)                0\n",
              "Blast Furnace Slag (component 2)(kg in a m^3 mixture)    0\n",
              "Fly Ash (component 3)(kg in a m^3 mixture)               0\n",
              "Water  (component 4)(kg in a m^3 mixture)                0\n",
              "Superplasticizer (component 5)(kg in a m^3 mixture)      0\n",
              "Coarse Aggregate  (component 6)(kg in a m^3 mixture)     0\n",
              "Fine Aggregate (component 7)(kg in a m^3 mixture)        0\n",
              "Age (day)                                                0\n",
              "Concrete compressive strength(MPa, megapascals)          0\n",
              "dtype: int64"
            ]
          },
          "execution_count": 5,
          "metadata": {},
          "output_type": "execute_result"
        }
      ],
      "source": [
        "#check for null values\n",
        "con.isnull().sum() "
      ]
    },
    {
      "cell_type": "code",
      "execution_count": 6,
      "metadata": {
        "colab": {
          "base_uri": "https://localhost:8080/"
        },
        "id": "p_Top3AWESnF",
        "outputId": "70dbf17f-1d69-4569-8d9c-668b77e65c26"
      },
      "outputs": [
        {
          "data": {
            "text/plain": [
              "25"
            ]
          },
          "execution_count": 6,
          "metadata": {},
          "output_type": "execute_result"
        }
      ],
      "source": [
        "#checking duplicate values\n",
        "con.duplicated().sum()"
      ]
    },
    {
      "cell_type": "code",
      "execution_count": 7,
      "metadata": {
        "id": "D2SlpePJEY_7"
      },
      "outputs": [],
      "source": [
        "#Treat duplicate values\n",
        "con.drop_duplicates(inplace=True) "
      ]
    },
    {
      "cell_type": "code",
      "execution_count": 8,
      "metadata": {
        "colab": {
          "base_uri": "https://localhost:8080/"
        },
        "id": "5s84xQUPEnf2",
        "outputId": "d564c663-64cc-460b-d116-6bfe1f0b8c39"
      },
      "outputs": [
        {
          "data": {
            "text/plain": [
              "0"
            ]
          },
          "execution_count": 8,
          "metadata": {},
          "output_type": "execute_result"
        }
      ],
      "source": [
        "#checking duplicates again\n",
        "con.duplicated().sum()"
      ]
    },
    {
      "cell_type": "code",
      "execution_count": 9,
      "metadata": {
        "colab": {
          "base_uri": "https://localhost:8080/",
          "height": 344
        },
        "id": "7sqwUn8K_shh",
        "outputId": "5ed09098-8975-4e59-8ee4-e27c976ff867"
      },
      "outputs": [
        {
          "data": {
            "text/html": [
              "<div>\n",
              "<style scoped>\n",
              "    .dataframe tbody tr th:only-of-type {\n",
              "        vertical-align: middle;\n",
              "    }\n",
              "\n",
              "    .dataframe tbody tr th {\n",
              "        vertical-align: top;\n",
              "    }\n",
              "\n",
              "    .dataframe thead th {\n",
              "        text-align: right;\n",
              "    }\n",
              "</style>\n",
              "<table border=\"1\" class=\"dataframe\">\n",
              "  <thead>\n",
              "    <tr style=\"text-align: right;\">\n",
              "      <th></th>\n",
              "      <th>Cement (component 1)(kg in a m^3 mixture)</th>\n",
              "      <th>Blast Furnace Slag (component 2)(kg in a m^3 mixture)</th>\n",
              "      <th>Fly Ash (component 3)(kg in a m^3 mixture)</th>\n",
              "      <th>Water  (component 4)(kg in a m^3 mixture)</th>\n",
              "      <th>Superplasticizer (component 5)(kg in a m^3 mixture)</th>\n",
              "      <th>Coarse Aggregate  (component 6)(kg in a m^3 mixture)</th>\n",
              "      <th>Fine Aggregate (component 7)(kg in a m^3 mixture)</th>\n",
              "      <th>Age (day)</th>\n",
              "      <th>Concrete compressive strength(MPa, megapascals)</th>\n",
              "    </tr>\n",
              "  </thead>\n",
              "  <tbody>\n",
              "    <tr>\n",
              "      <th>count</th>\n",
              "      <td>1005.000000</td>\n",
              "      <td>1005.000000</td>\n",
              "      <td>1005.000000</td>\n",
              "      <td>1005.000000</td>\n",
              "      <td>1005.000000</td>\n",
              "      <td>1005.000000</td>\n",
              "      <td>1005.000000</td>\n",
              "      <td>1005.000000</td>\n",
              "      <td>1005.000000</td>\n",
              "    </tr>\n",
              "    <tr>\n",
              "      <th>mean</th>\n",
              "      <td>278.631343</td>\n",
              "      <td>72.043483</td>\n",
              "      <td>55.536318</td>\n",
              "      <td>182.075323</td>\n",
              "      <td>6.033234</td>\n",
              "      <td>974.376816</td>\n",
              "      <td>772.688259</td>\n",
              "      <td>45.856716</td>\n",
              "      <td>35.250378</td>\n",
              "    </tr>\n",
              "    <tr>\n",
              "      <th>std</th>\n",
              "      <td>104.344261</td>\n",
              "      <td>86.170807</td>\n",
              "      <td>64.207969</td>\n",
              "      <td>21.339334</td>\n",
              "      <td>5.919967</td>\n",
              "      <td>77.579667</td>\n",
              "      <td>80.340435</td>\n",
              "      <td>63.734692</td>\n",
              "      <td>16.284815</td>\n",
              "    </tr>\n",
              "    <tr>\n",
              "      <th>min</th>\n",
              "      <td>102.000000</td>\n",
              "      <td>0.000000</td>\n",
              "      <td>0.000000</td>\n",
              "      <td>121.800000</td>\n",
              "      <td>0.000000</td>\n",
              "      <td>801.000000</td>\n",
              "      <td>594.000000</td>\n",
              "      <td>1.000000</td>\n",
              "      <td>2.330000</td>\n",
              "    </tr>\n",
              "    <tr>\n",
              "      <th>25%</th>\n",
              "      <td>190.700000</td>\n",
              "      <td>0.000000</td>\n",
              "      <td>0.000000</td>\n",
              "      <td>166.600000</td>\n",
              "      <td>0.000000</td>\n",
              "      <td>932.000000</td>\n",
              "      <td>724.300000</td>\n",
              "      <td>7.000000</td>\n",
              "      <td>23.520000</td>\n",
              "    </tr>\n",
              "    <tr>\n",
              "      <th>50%</th>\n",
              "      <td>265.000000</td>\n",
              "      <td>20.000000</td>\n",
              "      <td>0.000000</td>\n",
              "      <td>185.700000</td>\n",
              "      <td>6.100000</td>\n",
              "      <td>968.000000</td>\n",
              "      <td>780.000000</td>\n",
              "      <td>28.000000</td>\n",
              "      <td>33.800000</td>\n",
              "    </tr>\n",
              "    <tr>\n",
              "      <th>75%</th>\n",
              "      <td>349.000000</td>\n",
              "      <td>142.500000</td>\n",
              "      <td>118.300000</td>\n",
              "      <td>192.900000</td>\n",
              "      <td>10.000000</td>\n",
              "      <td>1031.000000</td>\n",
              "      <td>822.200000</td>\n",
              "      <td>56.000000</td>\n",
              "      <td>44.870000</td>\n",
              "    </tr>\n",
              "    <tr>\n",
              "      <th>max</th>\n",
              "      <td>540.000000</td>\n",
              "      <td>359.400000</td>\n",
              "      <td>200.100000</td>\n",
              "      <td>247.000000</td>\n",
              "      <td>32.200000</td>\n",
              "      <td>1145.000000</td>\n",
              "      <td>992.600000</td>\n",
              "      <td>365.000000</td>\n",
              "      <td>82.600000</td>\n",
              "    </tr>\n",
              "  </tbody>\n",
              "</table>\n",
              "</div>"
            ],
            "text/plain": [
              "       Cement (component 1)(kg in a m^3 mixture)  \\\n",
              "count                                1005.000000   \n",
              "mean                                  278.631343   \n",
              "std                                   104.344261   \n",
              "min                                   102.000000   \n",
              "25%                                   190.700000   \n",
              "50%                                   265.000000   \n",
              "75%                                   349.000000   \n",
              "max                                   540.000000   \n",
              "\n",
              "       Blast Furnace Slag (component 2)(kg in a m^3 mixture)  \\\n",
              "count                                        1005.000000       \n",
              "mean                                           72.043483       \n",
              "std                                            86.170807       \n",
              "min                                             0.000000       \n",
              "25%                                             0.000000       \n",
              "50%                                            20.000000       \n",
              "75%                                           142.500000       \n",
              "max                                           359.400000       \n",
              "\n",
              "       Fly Ash (component 3)(kg in a m^3 mixture)  \\\n",
              "count                                 1005.000000   \n",
              "mean                                    55.536318   \n",
              "std                                     64.207969   \n",
              "min                                      0.000000   \n",
              "25%                                      0.000000   \n",
              "50%                                      0.000000   \n",
              "75%                                    118.300000   \n",
              "max                                    200.100000   \n",
              "\n",
              "       Water  (component 4)(kg in a m^3 mixture)  \\\n",
              "count                                1005.000000   \n",
              "mean                                  182.075323   \n",
              "std                                    21.339334   \n",
              "min                                   121.800000   \n",
              "25%                                   166.600000   \n",
              "50%                                   185.700000   \n",
              "75%                                   192.900000   \n",
              "max                                   247.000000   \n",
              "\n",
              "       Superplasticizer (component 5)(kg in a m^3 mixture)  \\\n",
              "count                                        1005.000000     \n",
              "mean                                            6.033234     \n",
              "std                                             5.919967     \n",
              "min                                             0.000000     \n",
              "25%                                             0.000000     \n",
              "50%                                             6.100000     \n",
              "75%                                            10.000000     \n",
              "max                                            32.200000     \n",
              "\n",
              "       Coarse Aggregate  (component 6)(kg in a m^3 mixture)  \\\n",
              "count                                        1005.000000      \n",
              "mean                                          974.376816      \n",
              "std                                            77.579667      \n",
              "min                                           801.000000      \n",
              "25%                                           932.000000      \n",
              "50%                                           968.000000      \n",
              "75%                                          1031.000000      \n",
              "max                                          1145.000000      \n",
              "\n",
              "       Fine Aggregate (component 7)(kg in a m^3 mixture)    Age (day)  \\\n",
              "count                                        1005.000000  1005.000000   \n",
              "mean                                          772.688259    45.856716   \n",
              "std                                            80.340435    63.734692   \n",
              "min                                           594.000000     1.000000   \n",
              "25%                                           724.300000     7.000000   \n",
              "50%                                           780.000000    28.000000   \n",
              "75%                                           822.200000    56.000000   \n",
              "max                                           992.600000   365.000000   \n",
              "\n",
              "       Concrete compressive strength(MPa, megapascals)   \n",
              "count                                       1005.000000  \n",
              "mean                                          35.250378  \n",
              "std                                           16.284815  \n",
              "min                                            2.330000  \n",
              "25%                                           23.520000  \n",
              "50%                                           33.800000  \n",
              "75%                                           44.870000  \n",
              "max                                           82.600000  "
            ]
          },
          "execution_count": 9,
          "metadata": {},
          "output_type": "execute_result"
        }
      ],
      "source": [
        "con.describe() "
      ]
    },
    {
      "cell_type": "code",
      "execution_count": 14,
      "metadata": {
        "id": "pDAWWkdU_w76"
      },
      "outputs": [],
      "source": [
        "col=con.columns "
      ]
    },
    {
      "cell_type": "code",
      "execution_count": 21,
      "metadata": {
        "colab": {
          "base_uri": "https://localhost:8080/",
          "height": 296
        },
        "id": "Yo5Mm_2W_xBS",
        "outputId": "2cb9a4fb-d9a4-4864-bb1e-29a93b5607a4"
      },
      "outputs": [
        {
          "ename": "KeyError",
          "evalue": "'Concrete compressive strength(MPa, megapascals)'",
          "output_type": "error",
          "traceback": [
            "\u001b[1;31m---------------------------------------------------------------------------\u001b[0m",
            "\u001b[1;31mKeyError\u001b[0m                                  Traceback (most recent call last)",
            "File \u001b[1;32mc:\\Users\\Zohaib\\AppData\\Local\\Programs\\Python\\Python311\\Lib\\site-packages\\pandas\\core\\indexes\\base.py:3803\u001b[0m, in \u001b[0;36mIndex.get_loc\u001b[1;34m(self, key, method, tolerance)\u001b[0m\n\u001b[0;32m   3802\u001b[0m \u001b[39mtry\u001b[39;00m:\n\u001b[1;32m-> 3803\u001b[0m     \u001b[39mreturn\u001b[39;00m \u001b[39mself\u001b[39;49m\u001b[39m.\u001b[39;49m_engine\u001b[39m.\u001b[39;49mget_loc(casted_key)\n\u001b[0;32m   3804\u001b[0m \u001b[39mexcept\u001b[39;00m \u001b[39mKeyError\u001b[39;00m \u001b[39mas\u001b[39;00m err:\n",
            "File \u001b[1;32mc:\\Users\\Zohaib\\AppData\\Local\\Programs\\Python\\Python311\\Lib\\site-packages\\pandas\\_libs\\index.pyx:138\u001b[0m, in \u001b[0;36mpandas._libs.index.IndexEngine.get_loc\u001b[1;34m()\u001b[0m\n",
            "File \u001b[1;32mc:\\Users\\Zohaib\\AppData\\Local\\Programs\\Python\\Python311\\Lib\\site-packages\\pandas\\_libs\\index.pyx:165\u001b[0m, in \u001b[0;36mpandas._libs.index.IndexEngine.get_loc\u001b[1;34m()\u001b[0m\n",
            "File \u001b[1;32mpandas\\_libs\\hashtable_class_helper.pxi:5745\u001b[0m, in \u001b[0;36mpandas._libs.hashtable.PyObjectHashTable.get_item\u001b[1;34m()\u001b[0m\n",
            "File \u001b[1;32mpandas\\_libs\\hashtable_class_helper.pxi:5753\u001b[0m, in \u001b[0;36mpandas._libs.hashtable.PyObjectHashTable.get_item\u001b[1;34m()\u001b[0m\n",
            "\u001b[1;31mKeyError\u001b[0m: 'Concrete compressive strength(MPa, megapascals)'",
            "\nThe above exception was the direct cause of the following exception:\n",
            "\u001b[1;31mKeyError\u001b[0m                                  Traceback (most recent call last)",
            "Cell \u001b[1;32mIn[21], line 1\u001b[0m\n\u001b[1;32m----> 1\u001b[0m sns\u001b[39m.\u001b[39mboxplot(data\u001b[39m=\u001b[39mcon,x\u001b[39m=\u001b[39m\u001b[39m'\u001b[39m\u001b[39mage\u001b[39m\u001b[39m'\u001b[39m,y\u001b[39m=\u001b[39mcon[\u001b[39m\"\u001b[39;49m\u001b[39mConcrete compressive strength(MPa, megapascals)\u001b[39;49m\u001b[39m\"\u001b[39;49m]) \n",
            "File \u001b[1;32mc:\\Users\\Zohaib\\AppData\\Local\\Programs\\Python\\Python311\\Lib\\site-packages\\pandas\\core\\frame.py:3804\u001b[0m, in \u001b[0;36mDataFrame.__getitem__\u001b[1;34m(self, key)\u001b[0m\n\u001b[0;32m   3802\u001b[0m \u001b[39mif\u001b[39;00m \u001b[39mself\u001b[39m\u001b[39m.\u001b[39mcolumns\u001b[39m.\u001b[39mnlevels \u001b[39m>\u001b[39m \u001b[39m1\u001b[39m:\n\u001b[0;32m   3803\u001b[0m     \u001b[39mreturn\u001b[39;00m \u001b[39mself\u001b[39m\u001b[39m.\u001b[39m_getitem_multilevel(key)\n\u001b[1;32m-> 3804\u001b[0m indexer \u001b[39m=\u001b[39m \u001b[39mself\u001b[39;49m\u001b[39m.\u001b[39;49mcolumns\u001b[39m.\u001b[39;49mget_loc(key)\n\u001b[0;32m   3805\u001b[0m \u001b[39mif\u001b[39;00m is_integer(indexer):\n\u001b[0;32m   3806\u001b[0m     indexer \u001b[39m=\u001b[39m [indexer]\n",
            "File \u001b[1;32mc:\\Users\\Zohaib\\AppData\\Local\\Programs\\Python\\Python311\\Lib\\site-packages\\pandas\\core\\indexes\\base.py:3805\u001b[0m, in \u001b[0;36mIndex.get_loc\u001b[1;34m(self, key, method, tolerance)\u001b[0m\n\u001b[0;32m   3803\u001b[0m     \u001b[39mreturn\u001b[39;00m \u001b[39mself\u001b[39m\u001b[39m.\u001b[39m_engine\u001b[39m.\u001b[39mget_loc(casted_key)\n\u001b[0;32m   3804\u001b[0m \u001b[39mexcept\u001b[39;00m \u001b[39mKeyError\u001b[39;00m \u001b[39mas\u001b[39;00m err:\n\u001b[1;32m-> 3805\u001b[0m     \u001b[39mraise\u001b[39;00m \u001b[39mKeyError\u001b[39;00m(key) \u001b[39mfrom\u001b[39;00m \u001b[39merr\u001b[39;00m\n\u001b[0;32m   3806\u001b[0m \u001b[39mexcept\u001b[39;00m \u001b[39mTypeError\u001b[39;00m:\n\u001b[0;32m   3807\u001b[0m     \u001b[39m# If we have a listlike key, _check_indexing_error will raise\u001b[39;00m\n\u001b[0;32m   3808\u001b[0m     \u001b[39m#  InvalidIndexError. Otherwise we fall through and re-raise\u001b[39;00m\n\u001b[0;32m   3809\u001b[0m     \u001b[39m#  the TypeError.\u001b[39;00m\n\u001b[0;32m   3810\u001b[0m     \u001b[39mself\u001b[39m\u001b[39m.\u001b[39m_check_indexing_error(key)\n",
            "\u001b[1;31mKeyError\u001b[0m: 'Concrete compressive strength(MPa, megapascals)'"
          ]
        }
      ],
      "source": [
        "sns.boxplot(data=con,x='age',y=con[\"Concrete compressive strength(MPa, megapascals)\"]) "
      ]
    },
    {
      "cell_type": "markdown",
      "metadata": {
        "id": "Nb0uTFUHFDM-"
      },
      "source": [
        "Observations : Some columns shows outliers.Age column appears to have the maximum outliers.For now we are keeping them without treatment"
      ]
    },
    {
      "cell_type": "code",
      "execution_count": 22,
      "metadata": {
        "colab": {
          "base_uri": "https://localhost:8080/",
          "height": 296
        },
        "id": "MZRd0ABR_-ZD",
        "outputId": "e1093d41-4937-488c-d5a4-caac86d6e7dc"
      },
      "outputs": [
        {
          "ename": "KeyError",
          "evalue": "'cement'",
          "output_type": "error",
          "traceback": [
            "\u001b[1;31m---------------------------------------------------------------------------\u001b[0m",
            "\u001b[1;31mKeyError\u001b[0m                                  Traceback (most recent call last)",
            "File \u001b[1;32mc:\\Users\\Zohaib\\AppData\\Local\\Programs\\Python\\Python311\\Lib\\site-packages\\pandas\\core\\indexes\\base.py:3803\u001b[0m, in \u001b[0;36mIndex.get_loc\u001b[1;34m(self, key, method, tolerance)\u001b[0m\n\u001b[0;32m   3802\u001b[0m \u001b[39mtry\u001b[39;00m:\n\u001b[1;32m-> 3803\u001b[0m     \u001b[39mreturn\u001b[39;00m \u001b[39mself\u001b[39;49m\u001b[39m.\u001b[39;49m_engine\u001b[39m.\u001b[39;49mget_loc(casted_key)\n\u001b[0;32m   3804\u001b[0m \u001b[39mexcept\u001b[39;00m \u001b[39mKeyError\u001b[39;00m \u001b[39mas\u001b[39;00m err:\n",
            "File \u001b[1;32mc:\\Users\\Zohaib\\AppData\\Local\\Programs\\Python\\Python311\\Lib\\site-packages\\pandas\\_libs\\index.pyx:138\u001b[0m, in \u001b[0;36mpandas._libs.index.IndexEngine.get_loc\u001b[1;34m()\u001b[0m\n",
            "File \u001b[1;32mc:\\Users\\Zohaib\\AppData\\Local\\Programs\\Python\\Python311\\Lib\\site-packages\\pandas\\_libs\\index.pyx:165\u001b[0m, in \u001b[0;36mpandas._libs.index.IndexEngine.get_loc\u001b[1;34m()\u001b[0m\n",
            "File \u001b[1;32mpandas\\_libs\\hashtable_class_helper.pxi:5745\u001b[0m, in \u001b[0;36mpandas._libs.hashtable.PyObjectHashTable.get_item\u001b[1;34m()\u001b[0m\n",
            "File \u001b[1;32mpandas\\_libs\\hashtable_class_helper.pxi:5753\u001b[0m, in \u001b[0;36mpandas._libs.hashtable.PyObjectHashTable.get_item\u001b[1;34m()\u001b[0m\n",
            "\u001b[1;31mKeyError\u001b[0m: 'cement'",
            "\nThe above exception was the direct cause of the following exception:\n",
            "\u001b[1;31mKeyError\u001b[0m                                  Traceback (most recent call last)",
            "Cell \u001b[1;32mIn[22], line 1\u001b[0m\n\u001b[1;32m----> 1\u001b[0m sns\u001b[39m.\u001b[39mdistplot(con[\u001b[39m'\u001b[39;49m\u001b[39mcement\u001b[39;49m\u001b[39m'\u001b[39;49m])\n",
            "File \u001b[1;32mc:\\Users\\Zohaib\\AppData\\Local\\Programs\\Python\\Python311\\Lib\\site-packages\\pandas\\core\\frame.py:3804\u001b[0m, in \u001b[0;36mDataFrame.__getitem__\u001b[1;34m(self, key)\u001b[0m\n\u001b[0;32m   3802\u001b[0m \u001b[39mif\u001b[39;00m \u001b[39mself\u001b[39m\u001b[39m.\u001b[39mcolumns\u001b[39m.\u001b[39mnlevels \u001b[39m>\u001b[39m \u001b[39m1\u001b[39m:\n\u001b[0;32m   3803\u001b[0m     \u001b[39mreturn\u001b[39;00m \u001b[39mself\u001b[39m\u001b[39m.\u001b[39m_getitem_multilevel(key)\n\u001b[1;32m-> 3804\u001b[0m indexer \u001b[39m=\u001b[39m \u001b[39mself\u001b[39;49m\u001b[39m.\u001b[39;49mcolumns\u001b[39m.\u001b[39;49mget_loc(key)\n\u001b[0;32m   3805\u001b[0m \u001b[39mif\u001b[39;00m is_integer(indexer):\n\u001b[0;32m   3806\u001b[0m     indexer \u001b[39m=\u001b[39m [indexer]\n",
            "File \u001b[1;32mc:\\Users\\Zohaib\\AppData\\Local\\Programs\\Python\\Python311\\Lib\\site-packages\\pandas\\core\\indexes\\base.py:3805\u001b[0m, in \u001b[0;36mIndex.get_loc\u001b[1;34m(self, key, method, tolerance)\u001b[0m\n\u001b[0;32m   3803\u001b[0m     \u001b[39mreturn\u001b[39;00m \u001b[39mself\u001b[39m\u001b[39m.\u001b[39m_engine\u001b[39m.\u001b[39mget_loc(casted_key)\n\u001b[0;32m   3804\u001b[0m \u001b[39mexcept\u001b[39;00m \u001b[39mKeyError\u001b[39;00m \u001b[39mas\u001b[39;00m err:\n\u001b[1;32m-> 3805\u001b[0m     \u001b[39mraise\u001b[39;00m \u001b[39mKeyError\u001b[39;00m(key) \u001b[39mfrom\u001b[39;00m \u001b[39merr\u001b[39;00m\n\u001b[0;32m   3806\u001b[0m \u001b[39mexcept\u001b[39;00m \u001b[39mTypeError\u001b[39;00m:\n\u001b[0;32m   3807\u001b[0m     \u001b[39m# If we have a listlike key, _check_indexing_error will raise\u001b[39;00m\n\u001b[0;32m   3808\u001b[0m     \u001b[39m#  InvalidIndexError. Otherwise we fall through and re-raise\u001b[39;00m\n\u001b[0;32m   3809\u001b[0m     \u001b[39m#  the TypeError.\u001b[39;00m\n\u001b[0;32m   3810\u001b[0m     \u001b[39mself\u001b[39m\u001b[39m.\u001b[39m_check_indexing_error(key)\n",
            "\u001b[1;31mKeyError\u001b[0m: 'cement'"
          ]
        }
      ],
      "source": [
        "sns.distplot(con['cement'])"
      ]
    },
    {
      "cell_type": "code",
      "execution_count": null,
      "metadata": {
        "colab": {
          "base_uri": "https://localhost:8080/",
          "height": 297
        },
        "id": "Yrj0jGbyAID1",
        "outputId": "ce17b5e0-9f0e-4cde-8882-d9881d852b1b"
      },
      "outputs": [],
      "source": [
        "sns.distplot(con['blast_furnace_slag'])"
      ]
    },
    {
      "cell_type": "code",
      "execution_count": null,
      "metadata": {
        "colab": {
          "base_uri": "https://localhost:8080/",
          "height": 296
        },
        "id": "Xe_P0DCZAU3X",
        "outputId": "334fecb6-be9a-4d01-941e-bc26b58a1cae"
      },
      "outputs": [],
      "source": [
        "sns.distplot(con['water'])"
      ]
    },
    {
      "cell_type": "code",
      "execution_count": null,
      "metadata": {
        "colab": {
          "base_uri": "https://localhost:8080/",
          "height": 299
        },
        "id": "gXmKMGseAbrc",
        "outputId": "525e927d-f4b1-4e42-84c2-269e7b13126c"
      },
      "outputs": [],
      "source": [
        "sns.distplot(con['coarse_aggregate'])"
      ]
    },
    {
      "cell_type": "code",
      "execution_count": null,
      "metadata": {
        "colab": {
          "base_uri": "https://localhost:8080/",
          "height": 297
        },
        "id": "ik8GeyhHAg8A",
        "outputId": "bb1438a7-fa04-45ff-9d49-0f3075b27442"
      },
      "outputs": [],
      "source": [
        "sns.distplot(con['fly_ash'])"
      ]
    },
    {
      "cell_type": "code",
      "execution_count": null,
      "metadata": {
        "colab": {
          "base_uri": "https://localhost:8080/",
          "height": 296
        },
        "id": "qr_G6mXIAjez",
        "outputId": "542cd994-3ada-44de-ef6d-4890370cf012"
      },
      "outputs": [],
      "source": [
        "sns.distplot(con['age'])"
      ]
    },
    {
      "cell_type": "code",
      "execution_count": null,
      "metadata": {
        "colab": {
          "base_uri": "https://localhost:8080/",
          "height": 396
        },
        "id": "eTAB2RbAFH72",
        "outputId": "6638aaae-0fbf-494a-94b6-d05142864d27"
      },
      "outputs": [],
      "source": [
        "#correlation among the input variables\n",
        "con.corr()"
      ]
    },
    {
      "cell_type": "code",
      "execution_count": null,
      "metadata": {
        "colab": {
          "base_uri": "https://localhost:8080/",
          "height": 435
        },
        "id": "5zpfu4_DAo63",
        "outputId": "1a97227d-d154-48be-c5b8-9dcb7af946be"
      },
      "outputs": [],
      "source": [
        "sns.heatmap(con.corr(), annot=True,cmap='Blues')"
      ]
    },
    {
      "cell_type": "markdown",
      "metadata": {
        "id": "v8dIF6OGFPeA"
      },
      "source": [
        "Observations :\n",
        "\n",
        "Cement is the best predictor, shows strong correlation.\n",
        "\n",
        "blast_furnace_slag, fly_ash are very weak predictors.\n",
        "\n",
        "superplasticizer and fly_ash shows strong correlation.\n",
        "\n",
        "superplasticizer and fly_ash shows average correlation with compressive strength.\n",
        "\n",
        "Water shows a negative correlation with strength\n",
        "\n",
        "water and superplasticizer shows strong negative correlation"
      ]
    },
    {
      "cell_type": "code",
      "execution_count": null,
      "metadata": {
        "colab": {
          "base_uri": "https://localhost:8080/",
          "height": 763
        },
        "id": "UhEGKuGWFbCz",
        "outputId": "ca08d9d4-7240-46f8-f829-c39460af69be"
      },
      "outputs": [],
      "source": [
        "#Univariate analysis\n",
        "\n",
        "#histogrm\n",
        "con.hist(figsize=(12,8));"
      ]
    },
    {
      "attachments": {},
      "cell_type": "markdown",
      "metadata": {
        "id": "9W5zGMxJF5DY"
      },
      "source": [
        "Observation: The features of the dataset are not normally distributed, so there is a need to make them normally distributed. In order to be unbiased let's split the data in train-val-test"
      ]
    },
    {
      "cell_type": "code",
      "execution_count": null,
      "metadata": {
        "id": "XzJOWI_FAuYt"
      },
      "outputs": [],
      "source": [
        "from sklearn.model_selection import train_test_split"
      ]
    },
    {
      "cell_type": "code",
      "execution_count": null,
      "metadata": {
        "id": "BUYzzKIOAw97"
      },
      "outputs": [],
      "source": [
        "con_train,con_test = train_test_split(con, train_size = 0.7, test_size = 0.3, random_state = 100)"
      ]
    },
    {
      "cell_type": "code",
      "execution_count": null,
      "metadata": {
        "colab": {
          "base_uri": "https://localhost:8080/"
        },
        "id": "fiXOxQ8nA0Ja",
        "outputId": "8b724225-464b-45eb-a998-20e4002d3d0b"
      },
      "outputs": [],
      "source": [
        "print(len(con_train))\n",
        "print(len(con_test))"
      ]
    },
    {
      "cell_type": "code",
      "execution_count": null,
      "metadata": {
        "id": "LwHV4GELA5SP"
      },
      "outputs": [],
      "source": [
        "from sklearn.preprocessing import StandardScaler\n",
        "scaler=StandardScaler()"
      ]
    },
    {
      "cell_type": "code",
      "execution_count": null,
      "metadata": {
        "id": "tctvz_NWA9Ms"
      },
      "outputs": [],
      "source": [
        "con_train[col] = scaler.fit_transform(con_train[col])"
      ]
    },
    {
      "cell_type": "code",
      "execution_count": null,
      "metadata": {
        "colab": {
          "base_uri": "https://localhost:8080/",
          "height": 434
        },
        "id": "07oo3if-BA2T",
        "outputId": "f5434304-d0cf-4520-e27e-a72ae3681973"
      },
      "outputs": [],
      "source": [
        "con_train.describe()"
      ]
    },
    {
      "cell_type": "code",
      "execution_count": null,
      "metadata": {
        "colab": {
          "base_uri": "https://localhost:8080/",
          "height": 435
        },
        "id": "KpIKi-_cBFM3",
        "outputId": "716326c1-7151-4895-a552-c9413d8b7361"
      },
      "outputs": [],
      "source": [
        "sns.heatmap(con_train.corr(),cmap='RdYlGn',annot = True)"
      ]
    },
    {
      "cell_type": "code",
      "execution_count": null,
      "metadata": {
        "id": "8NyiJRUpBQkU"
      },
      "outputs": [],
      "source": [
        "# Divide the data into X and y\n",
        "y_train=con_train.pop('concrete_compressive_strength')\n",
        "X_train=con_train"
      ]
    },
    {
      "cell_type": "code",
      "execution_count": null,
      "metadata": {
        "id": "M0kpL0REBT-Y"
      },
      "outputs": [],
      "source": [
        "import statsmodels.api as sm"
      ]
    },
    {
      "cell_type": "code",
      "execution_count": null,
      "metadata": {
        "id": "YH_XCVW9BVz4"
      },
      "outputs": [],
      "source": [
        "X_train_lm = sm.add_constant(X_train)"
      ]
    },
    {
      "cell_type": "code",
      "execution_count": null,
      "metadata": {
        "colab": {
          "base_uri": "https://localhost:8080/"
        },
        "id": "KJt40iwRBYFh",
        "outputId": "dba61f08-9ba5-427a-9cab-4776561c02ce"
      },
      "outputs": [],
      "source": [
        "lm1 = sm.OLS(y_train,X_train_lm).fit()\n",
        "print(lm1.summary())"
      ]
    },
    {
      "cell_type": "code",
      "execution_count": null,
      "metadata": {
        "id": "LZ_ySYXqBbwx"
      },
      "outputs": [],
      "source": [
        "from statsmodels.stats.outliers_influence import variance_inflation_factor"
      ]
    },
    {
      "cell_type": "code",
      "execution_count": null,
      "metadata": {
        "colab": {
          "base_uri": "https://localhost:8080/",
          "height": 300
        },
        "id": "eL35DgKWBeXb",
        "outputId": "f7b51404-a7f1-4c71-cca6-5a8ccd313398"
      },
      "outputs": [
        {
          "ename": "NameError",
          "evalue": "name 'X_train' is not defined",
          "output_type": "error",
          "traceback": [
            "\u001b[1;31m---------------------------------------------------------------------------\u001b[0m",
            "\u001b[1;31mNameError\u001b[0m                                 Traceback (most recent call last)",
            "Cell \u001b[1;32mIn[12], line 2\u001b[0m\n\u001b[0;32m      1\u001b[0m vif \u001b[39m=\u001b[39m pd\u001b[39m.\u001b[39mDataFrame()\n\u001b[1;32m----> 2\u001b[0m vif[\u001b[39m'\u001b[39m\u001b[39mFeatures\u001b[39m\u001b[39m'\u001b[39m] \u001b[39m=\u001b[39m X_train\u001b[39m.\u001b[39mcolumns\n\u001b[0;32m      3\u001b[0m vif[\u001b[39m'\u001b[39m\u001b[39mVIF\u001b[39m\u001b[39m'\u001b[39m] \u001b[39m=\u001b[39m [variance_inflation_factor(X_train\u001b[39m.\u001b[39mvalues, i) \u001b[39mfor\u001b[39;00m i \u001b[39min\u001b[39;00m \u001b[39mrange\u001b[39m(X_train\u001b[39m.\u001b[39mshape[\u001b[39m1\u001b[39m])]\n\u001b[0;32m      4\u001b[0m vif[\u001b[39m'\u001b[39m\u001b[39mVIF\u001b[39m\u001b[39m'\u001b[39m] \u001b[39m=\u001b[39m \u001b[39mround\u001b[39m(vif[\u001b[39m'\u001b[39m\u001b[39mVIF\u001b[39m\u001b[39m'\u001b[39m], \u001b[39m2\u001b[39m)\n",
            "\u001b[1;31mNameError\u001b[0m: name 'X_train' is not defined"
          ]
        }
      ],
      "source": [
        "vif = pd.DataFrame()\n",
        "vif['Features'] = X_train.columns\n",
        "vif['VIF'] = [variance_inflation_factor(X_train.values, i) for i in range(X_train.shape[1])]\n",
        "vif['VIF'] = round(vif['VIF'], 2)\n",
        "vif = vif.sort_values(by = \"VIF\", ascending = False)\n",
        "vif "
      ]
    },
    {
      "cell_type": "code",
      "execution_count": null,
      "metadata": {
        "id": "wvAcM1SCBjGm"
      },
      "outputs": [],
      "source": [
        "X_train_2 = X_train.drop([\"cement\"], axis = 1)"
      ]
    },
    {
      "cell_type": "code",
      "execution_count": null,
      "metadata": {
        "id": "t4J6YVsNBlhs"
      },
      "outputs": [],
      "source": [
        "X_train_lm = sm.add_constant(X_train_2)"
      ]
    },
    {
      "cell_type": "code",
      "execution_count": null,
      "metadata": {
        "colab": {
          "base_uri": "https://localhost:8080/"
        },
        "id": "v3mUslceBnpj",
        "outputId": "52d75244-de92-45cf-9f53-5f7057f557a6"
      },
      "outputs": [],
      "source": [
        "lm2 = sm.OLS(y_train,X_train_lm).fit()\n",
        "print(lm2.summary())"
      ]
    },
    {
      "cell_type": "code",
      "execution_count": null,
      "metadata": {
        "colab": {
          "base_uri": "https://localhost:8080/",
          "height": 269
        },
        "id": "QFjyNuhUBsIB",
        "outputId": "47aa532d-1a56-4de7-b42b-d3425fd87a1d"
      },
      "outputs": [],
      "source": [
        "vif = pd.DataFrame()\n",
        "vif['Features'] = X_train_2.columns\n",
        "vif['VIF'] = [variance_inflation_factor(X_train_2.values, i) for i in range(X_train_2.shape[1])]\n",
        "vif['VIF'] = round(vif['VIF'], 2)\n",
        "vif = vif.sort_values(by = \"VIF\", ascending = False)\n",
        "vif"
      ]
    },
    {
      "cell_type": "code",
      "execution_count": null,
      "metadata": {
        "colab": {
          "base_uri": "https://localhost:8080/"
        },
        "id": "92H1h2XwBvP2",
        "outputId": "05f37247-8ec7-4cf3-9587-b531cf3c2a45"
      },
      "outputs": [],
      "source": [
        "lm2.params"
      ]
    },
    {
      "cell_type": "code",
      "execution_count": null,
      "metadata": {
        "id": "5CQ7A9cYBx6A"
      },
      "outputs": [],
      "source": [
        "y_train_pred=lm2.predict(X_train_lm)"
      ]
    },
    {
      "cell_type": "code",
      "execution_count": null,
      "metadata": {
        "id": "nanUmdmgB06M"
      },
      "outputs": [],
      "source": [
        "res=y_train-y_train_pred"
      ]
    },
    {
      "cell_type": "code",
      "execution_count": null,
      "metadata": {
        "colab": {
          "base_uri": "https://localhost:8080/",
          "height": 282
        },
        "id": "SeHqStv-B3Q1",
        "outputId": "77517a57-e22c-4cc3-9565-a6f87a954708"
      },
      "outputs": [],
      "source": [
        "sns.distplot(res)"
      ]
    },
    {
      "cell_type": "code",
      "execution_count": null,
      "metadata": {
        "colab": {
          "base_uri": "https://localhost:8080/",
          "height": 280
        },
        "id": "gcprhp_9B-K-",
        "outputId": "1d2293ce-c617-4a77-eee2-57434eb0c894"
      },
      "outputs": [
        {
          "ename": "SyntaxError",
          "evalue": "invalid syntax. Perhaps you forgot a comma? (92610182.py, line 2)",
          "output_type": "error",
          "traceback": [
            "\u001b[1;36m  Cell \u001b[1;32mIn[15], line 2\u001b[1;36m\u001b[0m\n\u001b[1;33m    sns.scatterplot(x = np.arange(len(y)) y=y)\u001b[0m\n\u001b[1;37m                        ^\u001b[0m\n\u001b[1;31mSyntaxError\u001b[0m\u001b[1;31m:\u001b[0m invalid syntax. Perhaps you forgot a comma?\n"
          ]
        }
      ],
      "source": [
        "res = y_train - y_train_pred\n",
        "sns.scatterplot(y_train,res)\n",
        "plt.plot(y_train,(y_train - y_train), '-r')\n",
        "plt.xlabel('Count')\n",
        "plt.ylabel('Residual')\n",
        "plt.show()"
      ]
    },
    {
      "cell_type": "code",
      "execution_count": null,
      "metadata": {
        "colab": {
          "base_uri": "https://localhost:8080/",
          "height": 280
        },
        "id": "BwEy6V-HCBOU",
        "outputId": "b30e1080-3904-438b-de44-c8a12e5b43f1"
      },
      "outputs": [],
      "source": [
        "sm.qqplot((y_train - y_train_pred), fit=True, line='45')\n",
        "plt.show()"
      ]
    },
    {
      "cell_type": "code",
      "execution_count": null,
      "metadata": {
        "id": "OyYe5_xhCDqM"
      },
      "outputs": [],
      "source": [
        "con_test[col] = scaler.transform(con_test[col])"
      ]
    },
    {
      "cell_type": "code",
      "execution_count": null,
      "metadata": {
        "colab": {
          "base_uri": "https://localhost:8080/",
          "height": 300
        },
        "id": "nUevq4mXCFZY",
        "outputId": "749321e6-85ba-48e6-e42a-777a3ed4da18"
      },
      "outputs": [],
      "source": [
        "con_test.describe()"
      ]
    },
    {
      "cell_type": "code",
      "execution_count": null,
      "metadata": {
        "id": "1v2nFrBMCITO"
      },
      "outputs": [],
      "source": [
        "y_test=con_test.pop('concrete_compressive_strength')\n",
        "X_test=con_test"
      ]
    },
    {
      "cell_type": "code",
      "execution_count": null,
      "metadata": {
        "id": "tHE-GS23Dj4J"
      },
      "outputs": [],
      "source": [
        "X_test_new = X_test[X_train_2.columns]\n",
        "X_test_lm=sm.add_constant(X_test_new)"
      ]
    },
    {
      "cell_type": "code",
      "execution_count": null,
      "metadata": {
        "id": "0UEdeXIXDl_s"
      },
      "outputs": [],
      "source": [
        "y_test_pred=lm2.predict(X_test_lm)"
      ]
    },
    {
      "cell_type": "code",
      "execution_count": null,
      "metadata": {
        "id": "ftWYXe4GDoBG"
      },
      "outputs": [],
      "source": [
        "res=y_test-y_test_pred"
      ]
    },
    {
      "cell_type": "code",
      "execution_count": null,
      "metadata": {
        "colab": {
          "base_uri": "https://localhost:8080/",
          "height": 282
        },
        "id": "mP2FpuvBDrKP",
        "outputId": "fd0e5f49-35c0-4115-bf08-5c4d8b5bbf36"
      },
      "outputs": [],
      "source": [
        "sns.distplot(res)"
      ]
    },
    {
      "cell_type": "code",
      "execution_count": null,
      "metadata": {
        "colab": {
          "base_uri": "https://localhost:8080/"
        },
        "id": "exLzbXtZDu5I",
        "outputId": "14fefb3c-7d86-4a9f-ec41-04514c5cf911"
      },
      "outputs": [],
      "source": [
        "from sklearn.metrics import r2_score\n",
        "print(r2_score(y_true=y_train,y_pred=y_train_pred))\n",
        "print(r2_score(y_true=y_test,y_pred=y_test_pred))"
      ]
    },
    {
      "cell_type": "code",
      "execution_count": null,
      "metadata": {
        "colab": {
          "base_uri": "https://localhost:8080/",
          "height": 363
        },
        "id": "e8tSY0PeDx-M",
        "outputId": "12260fbc-a3cf-46ef-f2ed-89750f687d3f"
      },
      "outputs": [],
      "source": [
        "plt.figure(figsize=(8,5))\n",
        "sns.regplot(x=y_test, y=y_test_pred, ci=68, fit_reg=True,scatter_kws={\"color\": \"blue\"}, line_kws={\"color\": \"red\"})\n",
        "\n",
        "plt.title('y_test vs y_test_pred', fontsize=20)             \n",
        "plt.xlabel('y_test', fontsize=18)                        \n",
        "plt.ylabel('y_test_pred', fontsize=16)                        \n",
        "plt.show()"
      ]
    },
    {
      "cell_type": "code",
      "execution_count": null,
      "metadata": {
        "colab": {
          "base_uri": "https://localhost:8080/"
        },
        "id": "eEn9m1LkD1-V",
        "outputId": "3b32093c-d8f7-4a22-9bc9-4165eb071eb8"
      },
      "outputs": [],
      "source": [
        "# Adjusted R2 Value Calculation for bike_test dataframe\n",
        "r2 = round(r2_score(y_test, y_test_pred),4)\n",
        "# n is number of rows in test dataset\n",
        "\n",
        "n = X_test.shape[0]\n",
        "\n",
        "# Number of features (predictors, p) is the shape along axis 1\n",
        "\n",
        "p = X_test.shape[1]\n",
        "\n",
        "# We find the Adjusted R-squared using the formula\n",
        "\n",
        "adjusted_r2 = round(1-(1-r2)*(n-1)/(n-p-1),4)\n",
        "adjusted_r2"
      ]
    }
  ],
  "metadata": {
    "colab": {
      "provenance": []
    },
    "kernelspec": {
      "display_name": "Python 3",
      "language": "python",
      "name": "python3"
    },
    "language_info": {
      "codemirror_mode": {
        "name": "ipython",
        "version": 3
      },
      "file_extension": ".py",
      "mimetype": "text/x-python",
      "name": "python",
      "nbconvert_exporter": "python",
      "pygments_lexer": "ipython3",
      "version": "3.11.0"
    },
    "vscode": {
      "interpreter": {
        "hash": "8772536e3cbe85d74d3abe962f15a2d8dc7acd1d41662e28c4990e7b88d2f561"
      }
    }
  },
  "nbformat": 4,
  "nbformat_minor": 0
}
