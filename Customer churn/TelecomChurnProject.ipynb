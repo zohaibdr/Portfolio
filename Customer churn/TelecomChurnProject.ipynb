{
  "cells": [
    {
      "attachments": {},
      "cell_type": "markdown",
      "metadata": {},
      "source": [
        "# Code for the customer churn project, part of the portfolio at https://zohaibdr.github.io/\n",
        "\n"
      ]
    },
    {
      "cell_type": "code",
      "execution_count": 23,
      "metadata": {
        "colab": {
          "base_uri": "https://localhost:8080/",
          "height": 17
        },
        "id": "vl6QSPzZboQ5",
        "outputId": "17cc1fd3-4204-4330-f453-eadec93c1505"
      },
      "outputs": [
        {
          "data": {
            "text/html": [
              "        <script type=\"text/javascript\">\n",
              "        window.PlotlyConfig = {MathJaxConfig: 'local'};\n",
              "        if (window.MathJax && window.MathJax.Hub && window.MathJax.Hub.Config) {window.MathJax.Hub.Config({SVG: {font: \"STIX-Web\"}});}\n",
              "        if (typeof require !== 'undefined') {\n",
              "        require.undef(\"plotly\");\n",
              "        requirejs.config({\n",
              "            paths: {\n",
              "                'plotly': ['https://cdn.plot.ly/plotly-2.17.1.min']\n",
              "            }\n",
              "        });\n",
              "        require(['plotly'], function(Plotly) {\n",
              "            window._Plotly = Plotly;\n",
              "        });\n",
              "        }\n",
              "        </script>\n",
              "        "
            ]
          },
          "metadata": {},
          "output_type": "display_data"
        },
        {
          "data": {
            "text/html": [
              "        <script type=\"text/javascript\">\n",
              "        window.PlotlyConfig = {MathJaxConfig: 'local'};\n",
              "        if (window.MathJax && window.MathJax.Hub && window.MathJax.Hub.Config) {window.MathJax.Hub.Config({SVG: {font: \"STIX-Web\"}});}\n",
              "        if (typeof require !== 'undefined') {\n",
              "        require.undef(\"plotly\");\n",
              "        requirejs.config({\n",
              "            paths: {\n",
              "                'plotly': ['https://cdn.plot.ly/plotly-2.17.1.min']\n",
              "            }\n",
              "        });\n",
              "        require(['plotly'], function(Plotly) {\n",
              "            window._Plotly = Plotly;\n",
              "        });\n",
              "        }\n",
              "        </script>\n",
              "        "
            ]
          },
          "metadata": {},
          "output_type": "display_data"
        }
      ],
      "source": [
        "#Import usual libraries \n",
        "\n",
        "import numpy as np # Multi-dimensional array object\n",
        "import pandas as pd # Data Manipulation\n",
        "import matplotlib.pyplot as plt # Data Visualization\n",
        "import seaborn as sns # Data Visualization\n",
        "\n",
        "import plotly.express as px # Interactive Data Visualization\n",
        "import plotly.graph_objects as go\n",
        "\n",
        "from plotly.offline import download_plotlyjs, init_notebook_mode, plot, iplot # Offline version of the Plotly modules.\n",
        "import cufflinks as cf # Works as a connector between the pandas library and plotly\n",
        "cf.go_offline() \n",
        "init_notebook_mode(connected=True) # To connect Jupyter notebook with JavaScript\n",
        "from jupyterthemes import jtplot # Jupyter theme\n",
        "jtplot.style(theme= 'grade3', context= 'notebook', ticks= True, grid= False)\n",
        "\n",
        "# Import models to use \n",
        "from sklearn.model_selection import train_test_split\n",
        "from sklearn.naive_bayes import GaussianNB \n",
        "from sklearn.neighbors import KNeighborsClassifier\n",
        "from sklearn.ensemble import RandomForestClassifier \n",
        "from sklearn.calibration import CalibratedClassifierCV \n",
        "from sklearn.svm import LinearSVC \n",
        "from sklearn.linear_model import LogisticRegression \n",
        "\n",
        "# Model evaluation \n",
        "from sklearn.metrics import classification_report, confusion_matrix, roc_auc_score, roc_curve, accuracy_score, precision_score, recall_score, f1_score\n"
      ]
    },
    {
      "cell_type": "markdown",
      "metadata": {
        "id": "6hYabvbmjIaQ"
      },
      "source": [
        "# EXPLORATORY DATA ANALYSIS"
      ]
    },
    {
      "cell_type": "code",
      "execution_count": 66,
      "metadata": {
        "colab": {
          "base_uri": "https://localhost:8080/",
          "height": 299
        },
        "id": "ayGoxe2Xbo7V",
        "outputId": "08c3052d-ec3e-4c01-d027-6eda08e940ad"
      },
      "outputs": [
        {
          "name": "stdout",
          "output_type": "stream",
          "text": [
            "(5000, 21)\n"
          ]
        },
        {
          "data": {
            "text/html": [
              "<div>\n",
              "<style scoped>\n",
              "    .dataframe tbody tr th:only-of-type {\n",
              "        vertical-align: middle;\n",
              "    }\n",
              "\n",
              "    .dataframe tbody tr th {\n",
              "        vertical-align: top;\n",
              "    }\n",
              "\n",
              "    .dataframe thead th {\n",
              "        text-align: right;\n",
              "    }\n",
              "</style>\n",
              "<table border=\"1\" class=\"dataframe\">\n",
              "  <thead>\n",
              "    <tr style=\"text-align: right;\">\n",
              "      <th></th>\n",
              "      <th>0</th>\n",
              "      <th>1</th>\n",
              "      <th>2</th>\n",
              "      <th>3</th>\n",
              "      <th>4</th>\n",
              "      <th>5</th>\n",
              "      <th>6</th>\n",
              "      <th>7</th>\n",
              "      <th>8</th>\n",
              "      <th>9</th>\n",
              "      <th>...</th>\n",
              "      <th>4990</th>\n",
              "      <th>4991</th>\n",
              "      <th>4992</th>\n",
              "      <th>4993</th>\n",
              "      <th>4994</th>\n",
              "      <th>4995</th>\n",
              "      <th>4996</th>\n",
              "      <th>4997</th>\n",
              "      <th>4998</th>\n",
              "      <th>4999</th>\n",
              "    </tr>\n",
              "  </thead>\n",
              "  <tbody>\n",
              "    <tr>\n",
              "      <th>state</th>\n",
              "      <td>16.00</td>\n",
              "      <td>35.00</td>\n",
              "      <td>31.00</td>\n",
              "      <td>35.00</td>\n",
              "      <td>36.00</td>\n",
              "      <td>1.00</td>\n",
              "      <td>19.00</td>\n",
              "      <td>24.00</td>\n",
              "      <td>18.00</td>\n",
              "      <td>49.00</td>\n",
              "      <td>...</td>\n",
              "      <td>28.00</td>\n",
              "      <td>3.00</td>\n",
              "      <td>26.00</td>\n",
              "      <td>49.00</td>\n",
              "      <td>27.00</td>\n",
              "      <td>11.00</td>\n",
              "      <td>49.00</td>\n",
              "      <td>7.00</td>\n",
              "      <td>7.00</td>\n",
              "      <td>46.00</td>\n",
              "    </tr>\n",
              "    <tr>\n",
              "      <th>account_length</th>\n",
              "      <td>128.00</td>\n",
              "      <td>107.00</td>\n",
              "      <td>137.00</td>\n",
              "      <td>84.00</td>\n",
              "      <td>75.00</td>\n",
              "      <td>118.00</td>\n",
              "      <td>121.00</td>\n",
              "      <td>147.00</td>\n",
              "      <td>117.00</td>\n",
              "      <td>141.00</td>\n",
              "      <td>...</td>\n",
              "      <td>140.00</td>\n",
              "      <td>97.00</td>\n",
              "      <td>83.00</td>\n",
              "      <td>73.00</td>\n",
              "      <td>75.00</td>\n",
              "      <td>50.00</td>\n",
              "      <td>152.00</td>\n",
              "      <td>61.00</td>\n",
              "      <td>109.00</td>\n",
              "      <td>86.00</td>\n",
              "    </tr>\n",
              "    <tr>\n",
              "      <th>area_code</th>\n",
              "      <td>415.00</td>\n",
              "      <td>415.00</td>\n",
              "      <td>415.00</td>\n",
              "      <td>408.00</td>\n",
              "      <td>415.00</td>\n",
              "      <td>510.00</td>\n",
              "      <td>510.00</td>\n",
              "      <td>415.00</td>\n",
              "      <td>408.00</td>\n",
              "      <td>415.00</td>\n",
              "      <td>...</td>\n",
              "      <td>510.00</td>\n",
              "      <td>510.00</td>\n",
              "      <td>415.00</td>\n",
              "      <td>408.00</td>\n",
              "      <td>408.00</td>\n",
              "      <td>408.00</td>\n",
              "      <td>415.00</td>\n",
              "      <td>415.00</td>\n",
              "      <td>510.00</td>\n",
              "      <td>415.00</td>\n",
              "    </tr>\n",
              "    <tr>\n",
              "      <th>phone_number</th>\n",
              "      <td>2845.00</td>\n",
              "      <td>2301.00</td>\n",
              "      <td>1616.00</td>\n",
              "      <td>2510.00</td>\n",
              "      <td>155.00</td>\n",
              "      <td>3355.00</td>\n",
              "      <td>1516.00</td>\n",
              "      <td>116.00</td>\n",
              "      <td>425.00</td>\n",
              "      <td>163.00</td>\n",
              "      <td>...</td>\n",
              "      <td>1949.00</td>\n",
              "      <td>4367.00</td>\n",
              "      <td>1476.00</td>\n",
              "      <td>4467.00</td>\n",
              "      <td>4726.00</td>\n",
              "      <td>2000.00</td>\n",
              "      <td>394.00</td>\n",
              "      <td>313.00</td>\n",
              "      <td>3471.00</td>\n",
              "      <td>2412.00</td>\n",
              "    </tr>\n",
              "    <tr>\n",
              "      <th>international_plan</th>\n",
              "      <td>0.00</td>\n",
              "      <td>0.00</td>\n",
              "      <td>0.00</td>\n",
              "      <td>1.00</td>\n",
              "      <td>1.00</td>\n",
              "      <td>1.00</td>\n",
              "      <td>0.00</td>\n",
              "      <td>1.00</td>\n",
              "      <td>0.00</td>\n",
              "      <td>1.00</td>\n",
              "      <td>...</td>\n",
              "      <td>0.00</td>\n",
              "      <td>0.00</td>\n",
              "      <td>0.00</td>\n",
              "      <td>0.00</td>\n",
              "      <td>0.00</td>\n",
              "      <td>0.00</td>\n",
              "      <td>0.00</td>\n",
              "      <td>0.00</td>\n",
              "      <td>0.00</td>\n",
              "      <td>0.00</td>\n",
              "    </tr>\n",
              "    <tr>\n",
              "      <th>voice_mail_plan</th>\n",
              "      <td>1.00</td>\n",
              "      <td>1.00</td>\n",
              "      <td>0.00</td>\n",
              "      <td>0.00</td>\n",
              "      <td>0.00</td>\n",
              "      <td>0.00</td>\n",
              "      <td>1.00</td>\n",
              "      <td>0.00</td>\n",
              "      <td>0.00</td>\n",
              "      <td>1.00</td>\n",
              "      <td>...</td>\n",
              "      <td>0.00</td>\n",
              "      <td>0.00</td>\n",
              "      <td>0.00</td>\n",
              "      <td>0.00</td>\n",
              "      <td>0.00</td>\n",
              "      <td>1.00</td>\n",
              "      <td>0.00</td>\n",
              "      <td>0.00</td>\n",
              "      <td>0.00</td>\n",
              "      <td>1.00</td>\n",
              "    </tr>\n",
              "    <tr>\n",
              "      <th>number_vmail_messages</th>\n",
              "      <td>25.00</td>\n",
              "      <td>26.00</td>\n",
              "      <td>0.00</td>\n",
              "      <td>0.00</td>\n",
              "      <td>0.00</td>\n",
              "      <td>0.00</td>\n",
              "      <td>24.00</td>\n",
              "      <td>0.00</td>\n",
              "      <td>0.00</td>\n",
              "      <td>37.00</td>\n",
              "      <td>...</td>\n",
              "      <td>0.00</td>\n",
              "      <td>0.00</td>\n",
              "      <td>0.00</td>\n",
              "      <td>0.00</td>\n",
              "      <td>0.00</td>\n",
              "      <td>40.00</td>\n",
              "      <td>0.00</td>\n",
              "      <td>0.00</td>\n",
              "      <td>0.00</td>\n",
              "      <td>34.00</td>\n",
              "    </tr>\n",
              "    <tr>\n",
              "      <th>total_day_minutes</th>\n",
              "      <td>265.10</td>\n",
              "      <td>161.60</td>\n",
              "      <td>243.40</td>\n",
              "      <td>299.40</td>\n",
              "      <td>166.70</td>\n",
              "      <td>223.40</td>\n",
              "      <td>218.20</td>\n",
              "      <td>157.00</td>\n",
              "      <td>184.50</td>\n",
              "      <td>258.60</td>\n",
              "      <td>...</td>\n",
              "      <td>244.70</td>\n",
              "      <td>252.60</td>\n",
              "      <td>188.30</td>\n",
              "      <td>177.90</td>\n",
              "      <td>170.70</td>\n",
              "      <td>235.70</td>\n",
              "      <td>184.20</td>\n",
              "      <td>140.60</td>\n",
              "      <td>188.80</td>\n",
              "      <td>129.40</td>\n",
              "    </tr>\n",
              "    <tr>\n",
              "      <th>total_day_calls</th>\n",
              "      <td>110.00</td>\n",
              "      <td>123.00</td>\n",
              "      <td>114.00</td>\n",
              "      <td>71.00</td>\n",
              "      <td>113.00</td>\n",
              "      <td>98.00</td>\n",
              "      <td>88.00</td>\n",
              "      <td>79.00</td>\n",
              "      <td>97.00</td>\n",
              "      <td>84.00</td>\n",
              "      <td>...</td>\n",
              "      <td>115.00</td>\n",
              "      <td>89.00</td>\n",
              "      <td>70.00</td>\n",
              "      <td>89.00</td>\n",
              "      <td>101.00</td>\n",
              "      <td>127.00</td>\n",
              "      <td>90.00</td>\n",
              "      <td>89.00</td>\n",
              "      <td>67.00</td>\n",
              "      <td>102.00</td>\n",
              "    </tr>\n",
              "    <tr>\n",
              "      <th>total_day_charge</th>\n",
              "      <td>45.07</td>\n",
              "      <td>27.47</td>\n",
              "      <td>41.38</td>\n",
              "      <td>50.90</td>\n",
              "      <td>28.34</td>\n",
              "      <td>37.98</td>\n",
              "      <td>37.09</td>\n",
              "      <td>26.69</td>\n",
              "      <td>31.37</td>\n",
              "      <td>43.96</td>\n",
              "      <td>...</td>\n",
              "      <td>41.60</td>\n",
              "      <td>42.94</td>\n",
              "      <td>32.01</td>\n",
              "      <td>30.24</td>\n",
              "      <td>29.02</td>\n",
              "      <td>40.07</td>\n",
              "      <td>31.31</td>\n",
              "      <td>23.90</td>\n",
              "      <td>32.10</td>\n",
              "      <td>22.00</td>\n",
              "    </tr>\n",
              "    <tr>\n",
              "      <th>total_eve_minutes</th>\n",
              "      <td>197.40</td>\n",
              "      <td>195.50</td>\n",
              "      <td>121.20</td>\n",
              "      <td>61.90</td>\n",
              "      <td>148.30</td>\n",
              "      <td>220.60</td>\n",
              "      <td>348.50</td>\n",
              "      <td>103.10</td>\n",
              "      <td>351.60</td>\n",
              "      <td>222.00</td>\n",
              "      <td>...</td>\n",
              "      <td>258.60</td>\n",
              "      <td>340.30</td>\n",
              "      <td>243.80</td>\n",
              "      <td>131.20</td>\n",
              "      <td>193.10</td>\n",
              "      <td>223.00</td>\n",
              "      <td>256.80</td>\n",
              "      <td>172.80</td>\n",
              "      <td>171.70</td>\n",
              "      <td>267.10</td>\n",
              "    </tr>\n",
              "    <tr>\n",
              "      <th>total_eve_calls</th>\n",
              "      <td>99.00</td>\n",
              "      <td>103.00</td>\n",
              "      <td>110.00</td>\n",
              "      <td>88.00</td>\n",
              "      <td>122.00</td>\n",
              "      <td>101.00</td>\n",
              "      <td>108.00</td>\n",
              "      <td>94.00</td>\n",
              "      <td>80.00</td>\n",
              "      <td>111.00</td>\n",
              "      <td>...</td>\n",
              "      <td>101.00</td>\n",
              "      <td>91.00</td>\n",
              "      <td>88.00</td>\n",
              "      <td>82.00</td>\n",
              "      <td>126.00</td>\n",
              "      <td>126.00</td>\n",
              "      <td>73.00</td>\n",
              "      <td>128.00</td>\n",
              "      <td>92.00</td>\n",
              "      <td>104.00</td>\n",
              "    </tr>\n",
              "    <tr>\n",
              "      <th>total_eve_charge</th>\n",
              "      <td>16.78</td>\n",
              "      <td>16.62</td>\n",
              "      <td>10.30</td>\n",
              "      <td>5.26</td>\n",
              "      <td>12.61</td>\n",
              "      <td>18.75</td>\n",
              "      <td>29.62</td>\n",
              "      <td>8.76</td>\n",
              "      <td>29.89</td>\n",
              "      <td>18.87</td>\n",
              "      <td>...</td>\n",
              "      <td>21.98</td>\n",
              "      <td>28.93</td>\n",
              "      <td>20.72</td>\n",
              "      <td>11.15</td>\n",
              "      <td>16.41</td>\n",
              "      <td>18.96</td>\n",
              "      <td>21.83</td>\n",
              "      <td>14.69</td>\n",
              "      <td>14.59</td>\n",
              "      <td>22.70</td>\n",
              "    </tr>\n",
              "    <tr>\n",
              "      <th>total_night_minutes</th>\n",
              "      <td>244.70</td>\n",
              "      <td>254.40</td>\n",
              "      <td>162.60</td>\n",
              "      <td>196.90</td>\n",
              "      <td>186.90</td>\n",
              "      <td>203.90</td>\n",
              "      <td>212.60</td>\n",
              "      <td>211.80</td>\n",
              "      <td>215.80</td>\n",
              "      <td>326.40</td>\n",
              "      <td>...</td>\n",
              "      <td>231.30</td>\n",
              "      <td>256.50</td>\n",
              "      <td>213.70</td>\n",
              "      <td>186.20</td>\n",
              "      <td>129.10</td>\n",
              "      <td>297.50</td>\n",
              "      <td>213.60</td>\n",
              "      <td>212.40</td>\n",
              "      <td>224.40</td>\n",
              "      <td>154.80</td>\n",
              "    </tr>\n",
              "    <tr>\n",
              "      <th>total_night_calls</th>\n",
              "      <td>91.00</td>\n",
              "      <td>103.00</td>\n",
              "      <td>104.00</td>\n",
              "      <td>89.00</td>\n",
              "      <td>121.00</td>\n",
              "      <td>118.00</td>\n",
              "      <td>118.00</td>\n",
              "      <td>96.00</td>\n",
              "      <td>90.00</td>\n",
              "      <td>97.00</td>\n",
              "      <td>...</td>\n",
              "      <td>112.00</td>\n",
              "      <td>67.00</td>\n",
              "      <td>79.00</td>\n",
              "      <td>89.00</td>\n",
              "      <td>104.00</td>\n",
              "      <td>116.00</td>\n",
              "      <td>113.00</td>\n",
              "      <td>97.00</td>\n",
              "      <td>89.00</td>\n",
              "      <td>100.00</td>\n",
              "    </tr>\n",
              "    <tr>\n",
              "      <th>total_night_charge</th>\n",
              "      <td>11.01</td>\n",
              "      <td>11.45</td>\n",
              "      <td>7.32</td>\n",
              "      <td>8.86</td>\n",
              "      <td>8.41</td>\n",
              "      <td>9.18</td>\n",
              "      <td>9.57</td>\n",
              "      <td>9.53</td>\n",
              "      <td>9.71</td>\n",
              "      <td>14.69</td>\n",
              "      <td>...</td>\n",
              "      <td>10.41</td>\n",
              "      <td>11.54</td>\n",
              "      <td>9.62</td>\n",
              "      <td>8.38</td>\n",
              "      <td>5.81</td>\n",
              "      <td>13.39</td>\n",
              "      <td>9.61</td>\n",
              "      <td>9.56</td>\n",
              "      <td>10.10</td>\n",
              "      <td>6.97</td>\n",
              "    </tr>\n",
              "    <tr>\n",
              "      <th>total_intl_minutes</th>\n",
              "      <td>10.00</td>\n",
              "      <td>13.70</td>\n",
              "      <td>12.20</td>\n",
              "      <td>6.60</td>\n",
              "      <td>10.10</td>\n",
              "      <td>6.30</td>\n",
              "      <td>7.50</td>\n",
              "      <td>7.10</td>\n",
              "      <td>8.70</td>\n",
              "      <td>11.20</td>\n",
              "      <td>...</td>\n",
              "      <td>7.50</td>\n",
              "      <td>8.80</td>\n",
              "      <td>10.30</td>\n",
              "      <td>11.50</td>\n",
              "      <td>6.90</td>\n",
              "      <td>9.90</td>\n",
              "      <td>14.70</td>\n",
              "      <td>13.60</td>\n",
              "      <td>8.50</td>\n",
              "      <td>9.30</td>\n",
              "    </tr>\n",
              "    <tr>\n",
              "      <th>total_intl_calls</th>\n",
              "      <td>3.00</td>\n",
              "      <td>3.00</td>\n",
              "      <td>5.00</td>\n",
              "      <td>7.00</td>\n",
              "      <td>3.00</td>\n",
              "      <td>6.00</td>\n",
              "      <td>7.00</td>\n",
              "      <td>6.00</td>\n",
              "      <td>4.00</td>\n",
              "      <td>5.00</td>\n",
              "      <td>...</td>\n",
              "      <td>6.00</td>\n",
              "      <td>5.00</td>\n",
              "      <td>6.00</td>\n",
              "      <td>6.00</td>\n",
              "      <td>7.00</td>\n",
              "      <td>5.00</td>\n",
              "      <td>2.00</td>\n",
              "      <td>4.00</td>\n",
              "      <td>6.00</td>\n",
              "      <td>16.00</td>\n",
              "    </tr>\n",
              "    <tr>\n",
              "      <th>total_intl_charge</th>\n",
              "      <td>2.70</td>\n",
              "      <td>3.70</td>\n",
              "      <td>3.29</td>\n",
              "      <td>1.78</td>\n",
              "      <td>2.73</td>\n",
              "      <td>1.70</td>\n",
              "      <td>2.03</td>\n",
              "      <td>1.92</td>\n",
              "      <td>2.35</td>\n",
              "      <td>3.02</td>\n",
              "      <td>...</td>\n",
              "      <td>2.03</td>\n",
              "      <td>2.38</td>\n",
              "      <td>2.78</td>\n",
              "      <td>3.11</td>\n",
              "      <td>1.86</td>\n",
              "      <td>2.67</td>\n",
              "      <td>3.97</td>\n",
              "      <td>3.67</td>\n",
              "      <td>2.30</td>\n",
              "      <td>2.51</td>\n",
              "    </tr>\n",
              "    <tr>\n",
              "      <th>number_customer_service_calls</th>\n",
              "      <td>1.00</td>\n",
              "      <td>1.00</td>\n",
              "      <td>0.00</td>\n",
              "      <td>2.00</td>\n",
              "      <td>3.00</td>\n",
              "      <td>0.00</td>\n",
              "      <td>3.00</td>\n",
              "      <td>0.00</td>\n",
              "      <td>1.00</td>\n",
              "      <td>0.00</td>\n",
              "      <td>...</td>\n",
              "      <td>1.00</td>\n",
              "      <td>1.00</td>\n",
              "      <td>0.00</td>\n",
              "      <td>3.00</td>\n",
              "      <td>1.00</td>\n",
              "      <td>2.00</td>\n",
              "      <td>3.00</td>\n",
              "      <td>1.00</td>\n",
              "      <td>0.00</td>\n",
              "      <td>0.00</td>\n",
              "    </tr>\n",
              "    <tr>\n",
              "      <th>class</th>\n",
              "      <td>0.00</td>\n",
              "      <td>0.00</td>\n",
              "      <td>0.00</td>\n",
              "      <td>0.00</td>\n",
              "      <td>0.00</td>\n",
              "      <td>0.00</td>\n",
              "      <td>0.00</td>\n",
              "      <td>0.00</td>\n",
              "      <td>0.00</td>\n",
              "      <td>0.00</td>\n",
              "      <td>...</td>\n",
              "      <td>1.00</td>\n",
              "      <td>1.00</td>\n",
              "      <td>0.00</td>\n",
              "      <td>0.00</td>\n",
              "      <td>0.00</td>\n",
              "      <td>0.00</td>\n",
              "      <td>1.00</td>\n",
              "      <td>0.00</td>\n",
              "      <td>0.00</td>\n",
              "      <td>0.00</td>\n",
              "    </tr>\n",
              "  </tbody>\n",
              "</table>\n",
              "<p>21 rows × 5000 columns</p>\n",
              "</div>"
            ],
            "text/plain": [
              "                                  0        1        2        3       4     \\\n",
              "state                            16.00    35.00    31.00    35.00   36.00   \n",
              "account_length                  128.00   107.00   137.00    84.00   75.00   \n",
              "area_code                       415.00   415.00   415.00   408.00  415.00   \n",
              "phone_number                   2845.00  2301.00  1616.00  2510.00  155.00   \n",
              "international_plan                0.00     0.00     0.00     1.00    1.00   \n",
              "voice_mail_plan                   1.00     1.00     0.00     0.00    0.00   \n",
              "number_vmail_messages            25.00    26.00     0.00     0.00    0.00   \n",
              "total_day_minutes               265.10   161.60   243.40   299.40  166.70   \n",
              "total_day_calls                 110.00   123.00   114.00    71.00  113.00   \n",
              "total_day_charge                 45.07    27.47    41.38    50.90   28.34   \n",
              "total_eve_minutes               197.40   195.50   121.20    61.90  148.30   \n",
              "total_eve_calls                  99.00   103.00   110.00    88.00  122.00   \n",
              "total_eve_charge                 16.78    16.62    10.30     5.26   12.61   \n",
              "total_night_minutes             244.70   254.40   162.60   196.90  186.90   \n",
              "total_night_calls                91.00   103.00   104.00    89.00  121.00   \n",
              "total_night_charge               11.01    11.45     7.32     8.86    8.41   \n",
              "total_intl_minutes               10.00    13.70    12.20     6.60   10.10   \n",
              "total_intl_calls                  3.00     3.00     5.00     7.00    3.00   \n",
              "total_intl_charge                 2.70     3.70     3.29     1.78    2.73   \n",
              "number_customer_service_calls     1.00     1.00     0.00     2.00    3.00   \n",
              "class                             0.00     0.00     0.00     0.00    0.00   \n",
              "\n",
              "                                  5        6       7       8       9     ...  \\\n",
              "state                             1.00    19.00   24.00   18.00   49.00  ...   \n",
              "account_length                  118.00   121.00  147.00  117.00  141.00  ...   \n",
              "area_code                       510.00   510.00  415.00  408.00  415.00  ...   \n",
              "phone_number                   3355.00  1516.00  116.00  425.00  163.00  ...   \n",
              "international_plan                1.00     0.00    1.00    0.00    1.00  ...   \n",
              "voice_mail_plan                   0.00     1.00    0.00    0.00    1.00  ...   \n",
              "number_vmail_messages             0.00    24.00    0.00    0.00   37.00  ...   \n",
              "total_day_minutes               223.40   218.20  157.00  184.50  258.60  ...   \n",
              "total_day_calls                  98.00    88.00   79.00   97.00   84.00  ...   \n",
              "total_day_charge                 37.98    37.09   26.69   31.37   43.96  ...   \n",
              "total_eve_minutes               220.60   348.50  103.10  351.60  222.00  ...   \n",
              "total_eve_calls                 101.00   108.00   94.00   80.00  111.00  ...   \n",
              "total_eve_charge                 18.75    29.62    8.76   29.89   18.87  ...   \n",
              "total_night_minutes             203.90   212.60  211.80  215.80  326.40  ...   \n",
              "total_night_calls               118.00   118.00   96.00   90.00   97.00  ...   \n",
              "total_night_charge                9.18     9.57    9.53    9.71   14.69  ...   \n",
              "total_intl_minutes                6.30     7.50    7.10    8.70   11.20  ...   \n",
              "total_intl_calls                  6.00     7.00    6.00    4.00    5.00  ...   \n",
              "total_intl_charge                 1.70     2.03    1.92    2.35    3.02  ...   \n",
              "number_customer_service_calls     0.00     3.00    0.00    1.00    0.00  ...   \n",
              "class                             0.00     0.00    0.00    0.00    0.00  ...   \n",
              "\n",
              "                                  4990     4991     4992     4993     4994  \\\n",
              "state                            28.00     3.00    26.00    49.00    27.00   \n",
              "account_length                  140.00    97.00    83.00    73.00    75.00   \n",
              "area_code                       510.00   510.00   415.00   408.00   408.00   \n",
              "phone_number                   1949.00  4367.00  1476.00  4467.00  4726.00   \n",
              "international_plan                0.00     0.00     0.00     0.00     0.00   \n",
              "voice_mail_plan                   0.00     0.00     0.00     0.00     0.00   \n",
              "number_vmail_messages             0.00     0.00     0.00     0.00     0.00   \n",
              "total_day_minutes               244.70   252.60   188.30   177.90   170.70   \n",
              "total_day_calls                 115.00    89.00    70.00    89.00   101.00   \n",
              "total_day_charge                 41.60    42.94    32.01    30.24    29.02   \n",
              "total_eve_minutes               258.60   340.30   243.80   131.20   193.10   \n",
              "total_eve_calls                 101.00    91.00    88.00    82.00   126.00   \n",
              "total_eve_charge                 21.98    28.93    20.72    11.15    16.41   \n",
              "total_night_minutes             231.30   256.50   213.70   186.20   129.10   \n",
              "total_night_calls               112.00    67.00    79.00    89.00   104.00   \n",
              "total_night_charge               10.41    11.54     9.62     8.38     5.81   \n",
              "total_intl_minutes                7.50     8.80    10.30    11.50     6.90   \n",
              "total_intl_calls                  6.00     5.00     6.00     6.00     7.00   \n",
              "total_intl_charge                 2.03     2.38     2.78     3.11     1.86   \n",
              "number_customer_service_calls     1.00     1.00     0.00     3.00     1.00   \n",
              "class                             1.00     1.00     0.00     0.00     0.00   \n",
              "\n",
              "                                  4995    4996    4997     4998     4999  \n",
              "state                            11.00   49.00    7.00     7.00    46.00  \n",
              "account_length                   50.00  152.00   61.00   109.00    86.00  \n",
              "area_code                       408.00  415.00  415.00   510.00   415.00  \n",
              "phone_number                   2000.00  394.00  313.00  3471.00  2412.00  \n",
              "international_plan                0.00    0.00    0.00     0.00     0.00  \n",
              "voice_mail_plan                   1.00    0.00    0.00     0.00     1.00  \n",
              "number_vmail_messages            40.00    0.00    0.00     0.00    34.00  \n",
              "total_day_minutes               235.70  184.20  140.60   188.80   129.40  \n",
              "total_day_calls                 127.00   90.00   89.00    67.00   102.00  \n",
              "total_day_charge                 40.07   31.31   23.90    32.10    22.00  \n",
              "total_eve_minutes               223.00  256.80  172.80   171.70   267.10  \n",
              "total_eve_calls                 126.00   73.00  128.00    92.00   104.00  \n",
              "total_eve_charge                 18.96   21.83   14.69    14.59    22.70  \n",
              "total_night_minutes             297.50  213.60  212.40   224.40   154.80  \n",
              "total_night_calls               116.00  113.00   97.00    89.00   100.00  \n",
              "total_night_charge               13.39    9.61    9.56    10.10     6.97  \n",
              "total_intl_minutes                9.90   14.70   13.60     8.50     9.30  \n",
              "total_intl_calls                  5.00    2.00    4.00     6.00    16.00  \n",
              "total_intl_charge                 2.67    3.97    3.67     2.30     2.51  \n",
              "number_customer_service_calls     2.00    3.00    1.00     0.00     0.00  \n",
              "class                             0.00    1.00    0.00     0.00     0.00  \n",
              "\n",
              "[21 rows x 5000 columns]"
            ]
          },
          "execution_count": 66,
          "metadata": {},
          "output_type": "execute_result"
        }
      ],
      "source": [
        "# to load from url from google drive, the file should be 'Published' in from google sheets. Because there should be a host. \n",
        "\n",
        "DF= pd.read_csv('https://docs.google.com/spreadsheets/d/e/2PACX-1vRJEFO_Fb2SfjD7a6r4Ear5Dw79ot_l-B28xQDwAW4SPzrdUEpivWBW5jrU0X47-T4zNq1l9alVP0GD/pub?gid=280565234&single=true&output=csv')\n",
        "\n",
        "print(DF.shape)\n",
        "# print(DF.columns)\n",
        "DF.T\n"
      ]
    },
    {
      "cell_type": "code",
      "execution_count": 25,
      "metadata": {},
      "outputs": [
        {
          "name": "stdout",
          "output_type": "stream",
          "text": [
            "Column phone_number dropped from DataFrame.\n",
            "Column total_day_minutes dropped from DataFrame.\n",
            "Column total_eve_minutes dropped from DataFrame.\n",
            "Column total_night_minutes dropped from DataFrame.\n",
            "Column total_intl_minutes dropped from DataFrame.\n",
            "Unique Area codes are:  [415 408 510]\n"
          ]
        },
        {
          "data": {
            "text/html": [
              "<div>\n",
              "<style scoped>\n",
              "    .dataframe tbody tr th:only-of-type {\n",
              "        vertical-align: middle;\n",
              "    }\n",
              "\n",
              "    .dataframe tbody tr th {\n",
              "        vertical-align: top;\n",
              "    }\n",
              "\n",
              "    .dataframe thead th {\n",
              "        text-align: right;\n",
              "    }\n",
              "</style>\n",
              "<table border=\"1\" class=\"dataframe\">\n",
              "  <thead>\n",
              "    <tr style=\"text-align: right;\">\n",
              "      <th></th>\n",
              "      <th>state</th>\n",
              "      <th>account_length</th>\n",
              "      <th>area_code</th>\n",
              "      <th>international_plan</th>\n",
              "      <th>voice_mail_plan</th>\n",
              "      <th>number_vmail_messages</th>\n",
              "      <th>total_day_calls</th>\n",
              "      <th>total_day_charge</th>\n",
              "      <th>total_eve_calls</th>\n",
              "      <th>total_eve_charge</th>\n",
              "      <th>total_night_calls</th>\n",
              "      <th>total_night_charge</th>\n",
              "      <th>total_intl_calls</th>\n",
              "      <th>total_intl_charge</th>\n",
              "      <th>number_customer_service_calls</th>\n",
              "      <th>class</th>\n",
              "    </tr>\n",
              "  </thead>\n",
              "  <tbody>\n",
              "    <tr>\n",
              "      <th>count</th>\n",
              "      <td>5000.00000</td>\n",
              "      <td>5000.00000</td>\n",
              "      <td>5000.000000</td>\n",
              "      <td>5000.000000</td>\n",
              "      <td>5000.000000</td>\n",
              "      <td>5000.000000</td>\n",
              "      <td>5000.000000</td>\n",
              "      <td>5000.000000</td>\n",
              "      <td>5000.000000</td>\n",
              "      <td>5000.000000</td>\n",
              "      <td>5000.000000</td>\n",
              "      <td>5000.000000</td>\n",
              "      <td>5000.000000</td>\n",
              "      <td>5000.000000</td>\n",
              "      <td>5000.000000</td>\n",
              "      <td>5000.000000</td>\n",
              "    </tr>\n",
              "    <tr>\n",
              "      <th>mean</th>\n",
              "      <td>25.99840</td>\n",
              "      <td>100.25860</td>\n",
              "      <td>436.911400</td>\n",
              "      <td>0.094600</td>\n",
              "      <td>0.264600</td>\n",
              "      <td>7.755200</td>\n",
              "      <td>100.029400</td>\n",
              "      <td>30.649668</td>\n",
              "      <td>100.191000</td>\n",
              "      <td>17.054322</td>\n",
              "      <td>99.919200</td>\n",
              "      <td>9.017732</td>\n",
              "      <td>4.435200</td>\n",
              "      <td>2.771196</td>\n",
              "      <td>1.570400</td>\n",
              "      <td>0.141400</td>\n",
              "    </tr>\n",
              "    <tr>\n",
              "      <th>std</th>\n",
              "      <td>14.80348</td>\n",
              "      <td>39.69456</td>\n",
              "      <td>42.209182</td>\n",
              "      <td>0.292691</td>\n",
              "      <td>0.441164</td>\n",
              "      <td>13.546393</td>\n",
              "      <td>19.831197</td>\n",
              "      <td>9.162069</td>\n",
              "      <td>19.826496</td>\n",
              "      <td>4.296843</td>\n",
              "      <td>19.958686</td>\n",
              "      <td>2.273763</td>\n",
              "      <td>2.456788</td>\n",
              "      <td>0.745514</td>\n",
              "      <td>1.306363</td>\n",
              "      <td>0.348469</td>\n",
              "    </tr>\n",
              "    <tr>\n",
              "      <th>min</th>\n",
              "      <td>0.00000</td>\n",
              "      <td>1.00000</td>\n",
              "      <td>408.000000</td>\n",
              "      <td>0.000000</td>\n",
              "      <td>0.000000</td>\n",
              "      <td>0.000000</td>\n",
              "      <td>0.000000</td>\n",
              "      <td>0.000000</td>\n",
              "      <td>0.000000</td>\n",
              "      <td>0.000000</td>\n",
              "      <td>0.000000</td>\n",
              "      <td>0.000000</td>\n",
              "      <td>0.000000</td>\n",
              "      <td>0.000000</td>\n",
              "      <td>0.000000</td>\n",
              "      <td>0.000000</td>\n",
              "    </tr>\n",
              "    <tr>\n",
              "      <th>25%</th>\n",
              "      <td>13.00000</td>\n",
              "      <td>73.00000</td>\n",
              "      <td>408.000000</td>\n",
              "      <td>0.000000</td>\n",
              "      <td>0.000000</td>\n",
              "      <td>0.000000</td>\n",
              "      <td>87.000000</td>\n",
              "      <td>24.430000</td>\n",
              "      <td>87.000000</td>\n",
              "      <td>14.140000</td>\n",
              "      <td>87.000000</td>\n",
              "      <td>7.510000</td>\n",
              "      <td>3.000000</td>\n",
              "      <td>2.300000</td>\n",
              "      <td>1.000000</td>\n",
              "      <td>0.000000</td>\n",
              "    </tr>\n",
              "    <tr>\n",
              "      <th>50%</th>\n",
              "      <td>26.00000</td>\n",
              "      <td>100.00000</td>\n",
              "      <td>415.000000</td>\n",
              "      <td>0.000000</td>\n",
              "      <td>0.000000</td>\n",
              "      <td>0.000000</td>\n",
              "      <td>100.000000</td>\n",
              "      <td>30.620000</td>\n",
              "      <td>100.000000</td>\n",
              "      <td>17.090000</td>\n",
              "      <td>100.000000</td>\n",
              "      <td>9.020000</td>\n",
              "      <td>4.000000</td>\n",
              "      <td>2.780000</td>\n",
              "      <td>1.000000</td>\n",
              "      <td>0.000000</td>\n",
              "    </tr>\n",
              "    <tr>\n",
              "      <th>75%</th>\n",
              "      <td>39.00000</td>\n",
              "      <td>127.00000</td>\n",
              "      <td>415.000000</td>\n",
              "      <td>0.000000</td>\n",
              "      <td>1.000000</td>\n",
              "      <td>17.000000</td>\n",
              "      <td>113.000000</td>\n",
              "      <td>36.750000</td>\n",
              "      <td>114.000000</td>\n",
              "      <td>19.900000</td>\n",
              "      <td>113.000000</td>\n",
              "      <td>10.560000</td>\n",
              "      <td>6.000000</td>\n",
              "      <td>3.240000</td>\n",
              "      <td>2.000000</td>\n",
              "      <td>0.000000</td>\n",
              "    </tr>\n",
              "    <tr>\n",
              "      <th>max</th>\n",
              "      <td>50.00000</td>\n",
              "      <td>243.00000</td>\n",
              "      <td>510.000000</td>\n",
              "      <td>1.000000</td>\n",
              "      <td>1.000000</td>\n",
              "      <td>52.000000</td>\n",
              "      <td>165.000000</td>\n",
              "      <td>59.760000</td>\n",
              "      <td>170.000000</td>\n",
              "      <td>30.910000</td>\n",
              "      <td>175.000000</td>\n",
              "      <td>17.770000</td>\n",
              "      <td>20.000000</td>\n",
              "      <td>5.400000</td>\n",
              "      <td>9.000000</td>\n",
              "      <td>1.000000</td>\n",
              "    </tr>\n",
              "  </tbody>\n",
              "</table>\n",
              "</div>"
            ],
            "text/plain": [
              "            state  account_length    area_code  international_plan  \\\n",
              "count  5000.00000      5000.00000  5000.000000         5000.000000   \n",
              "mean     25.99840       100.25860   436.911400            0.094600   \n",
              "std      14.80348        39.69456    42.209182            0.292691   \n",
              "min       0.00000         1.00000   408.000000            0.000000   \n",
              "25%      13.00000        73.00000   408.000000            0.000000   \n",
              "50%      26.00000       100.00000   415.000000            0.000000   \n",
              "75%      39.00000       127.00000   415.000000            0.000000   \n",
              "max      50.00000       243.00000   510.000000            1.000000   \n",
              "\n",
              "       voice_mail_plan  number_vmail_messages  total_day_calls  \\\n",
              "count      5000.000000            5000.000000      5000.000000   \n",
              "mean          0.264600               7.755200       100.029400   \n",
              "std           0.441164              13.546393        19.831197   \n",
              "min           0.000000               0.000000         0.000000   \n",
              "25%           0.000000               0.000000        87.000000   \n",
              "50%           0.000000               0.000000       100.000000   \n",
              "75%           1.000000              17.000000       113.000000   \n",
              "max           1.000000              52.000000       165.000000   \n",
              "\n",
              "       total_day_charge  total_eve_calls  total_eve_charge  total_night_calls  \\\n",
              "count       5000.000000      5000.000000       5000.000000        5000.000000   \n",
              "mean          30.649668       100.191000         17.054322          99.919200   \n",
              "std            9.162069        19.826496          4.296843          19.958686   \n",
              "min            0.000000         0.000000          0.000000           0.000000   \n",
              "25%           24.430000        87.000000         14.140000          87.000000   \n",
              "50%           30.620000       100.000000         17.090000         100.000000   \n",
              "75%           36.750000       114.000000         19.900000         113.000000   \n",
              "max           59.760000       170.000000         30.910000         175.000000   \n",
              "\n",
              "       total_night_charge  total_intl_calls  total_intl_charge  \\\n",
              "count         5000.000000       5000.000000        5000.000000   \n",
              "mean             9.017732          4.435200           2.771196   \n",
              "std              2.273763          2.456788           0.745514   \n",
              "min              0.000000          0.000000           0.000000   \n",
              "25%              7.510000          3.000000           2.300000   \n",
              "50%              9.020000          4.000000           2.780000   \n",
              "75%             10.560000          6.000000           3.240000   \n",
              "max             17.770000         20.000000           5.400000   \n",
              "\n",
              "       number_customer_service_calls        class  \n",
              "count                    5000.000000  5000.000000  \n",
              "mean                        1.570400     0.141400  \n",
              "std                         1.306363     0.348469  \n",
              "min                         0.000000     0.000000  \n",
              "25%                         1.000000     0.000000  \n",
              "50%                         1.000000     0.000000  \n",
              "75%                         2.000000     0.000000  \n",
              "max                         9.000000     1.000000  "
            ]
          },
          "execution_count": 25,
          "metadata": {},
          "output_type": "execute_result"
        }
      ],
      "source": [
        "# Also remove redundant columns \n",
        "df_cols = DF.columns \n",
        "cols_to_drop = ['phone_number', 'total_day_minutes','total_eve_minutes', 'total_night_minutes', 'total_intl_minutes']\n",
        "\n",
        "for col in cols_to_drop :\n",
        "    if col in df_cols:\n",
        "        DF.drop(col, axis=1, inplace=True)\n",
        "        print(f'Column {col} dropped from DataFrame.')\n",
        "    else:\n",
        "        print(f'Column {col} doesn\\'t exist in DataFrame.')\n",
        "\n",
        "print('Unique Area codes are: ', DF['area_code'].unique())\n",
        "\n",
        "DF['area_code'].astype('category').dtypes\n",
        "DF['state'].astype('category').dtypes\n",
        "\n",
        "DF.describe() "
      ]
    },
    {
      "attachments": {},
      "cell_type": "markdown",
      "metadata": {},
      "source": [
        "## Class balance"
      ]
    },
    {
      "cell_type": "code",
      "execution_count": 26,
      "metadata": {
        "colab": {
          "base_uri": "https://localhost:8080/"
        },
        "id": "ZKvoJujLk9dL",
        "outputId": "1df19260-ea06-48d8-dd24-f5e3ebb15272"
      },
      "outputs": [
        {
          "data": {
            "application/vnd.plotly.v1+json": {
              "config": {
                "plotlyServerURL": "https://plot.ly"
              },
              "data": [
                {
                  "labels": [
                    "Retained (0)",
                    "Churned (1)"
                  ],
                  "type": "pie",
                  "values": [
                    4293,
                    707
                  ]
                }
              ],
              "layout": {
                "template": {
                  "data": {
                    "bar": [
                      {
                        "error_x": {
                          "color": "#2a3f5f"
                        },
                        "error_y": {
                          "color": "#2a3f5f"
                        },
                        "marker": {
                          "line": {
                            "color": "#E5ECF6",
                            "width": 0.5
                          },
                          "pattern": {
                            "fillmode": "overlay",
                            "size": 10,
                            "solidity": 0.2
                          }
                        },
                        "type": "bar"
                      }
                    ],
                    "barpolar": [
                      {
                        "marker": {
                          "line": {
                            "color": "#E5ECF6",
                            "width": 0.5
                          },
                          "pattern": {
                            "fillmode": "overlay",
                            "size": 10,
                            "solidity": 0.2
                          }
                        },
                        "type": "barpolar"
                      }
                    ],
                    "carpet": [
                      {
                        "aaxis": {
                          "endlinecolor": "#2a3f5f",
                          "gridcolor": "white",
                          "linecolor": "white",
                          "minorgridcolor": "white",
                          "startlinecolor": "#2a3f5f"
                        },
                        "baxis": {
                          "endlinecolor": "#2a3f5f",
                          "gridcolor": "white",
                          "linecolor": "white",
                          "minorgridcolor": "white",
                          "startlinecolor": "#2a3f5f"
                        },
                        "type": "carpet"
                      }
                    ],
                    "choropleth": [
                      {
                        "colorbar": {
                          "outlinewidth": 0,
                          "ticks": ""
                        },
                        "type": "choropleth"
                      }
                    ],
                    "contour": [
                      {
                        "colorbar": {
                          "outlinewidth": 0,
                          "ticks": ""
                        },
                        "colorscale": [
                          [
                            0,
                            "#0d0887"
                          ],
                          [
                            0.1111111111111111,
                            "#46039f"
                          ],
                          [
                            0.2222222222222222,
                            "#7201a8"
                          ],
                          [
                            0.3333333333333333,
                            "#9c179e"
                          ],
                          [
                            0.4444444444444444,
                            "#bd3786"
                          ],
                          [
                            0.5555555555555556,
                            "#d8576b"
                          ],
                          [
                            0.6666666666666666,
                            "#ed7953"
                          ],
                          [
                            0.7777777777777778,
                            "#fb9f3a"
                          ],
                          [
                            0.8888888888888888,
                            "#fdca26"
                          ],
                          [
                            1,
                            "#f0f921"
                          ]
                        ],
                        "type": "contour"
                      }
                    ],
                    "contourcarpet": [
                      {
                        "colorbar": {
                          "outlinewidth": 0,
                          "ticks": ""
                        },
                        "type": "contourcarpet"
                      }
                    ],
                    "heatmap": [
                      {
                        "colorbar": {
                          "outlinewidth": 0,
                          "ticks": ""
                        },
                        "colorscale": [
                          [
                            0,
                            "#0d0887"
                          ],
                          [
                            0.1111111111111111,
                            "#46039f"
                          ],
                          [
                            0.2222222222222222,
                            "#7201a8"
                          ],
                          [
                            0.3333333333333333,
                            "#9c179e"
                          ],
                          [
                            0.4444444444444444,
                            "#bd3786"
                          ],
                          [
                            0.5555555555555556,
                            "#d8576b"
                          ],
                          [
                            0.6666666666666666,
                            "#ed7953"
                          ],
                          [
                            0.7777777777777778,
                            "#fb9f3a"
                          ],
                          [
                            0.8888888888888888,
                            "#fdca26"
                          ],
                          [
                            1,
                            "#f0f921"
                          ]
                        ],
                        "type": "heatmap"
                      }
                    ],
                    "heatmapgl": [
                      {
                        "colorbar": {
                          "outlinewidth": 0,
                          "ticks": ""
                        },
                        "colorscale": [
                          [
                            0,
                            "#0d0887"
                          ],
                          [
                            0.1111111111111111,
                            "#46039f"
                          ],
                          [
                            0.2222222222222222,
                            "#7201a8"
                          ],
                          [
                            0.3333333333333333,
                            "#9c179e"
                          ],
                          [
                            0.4444444444444444,
                            "#bd3786"
                          ],
                          [
                            0.5555555555555556,
                            "#d8576b"
                          ],
                          [
                            0.6666666666666666,
                            "#ed7953"
                          ],
                          [
                            0.7777777777777778,
                            "#fb9f3a"
                          ],
                          [
                            0.8888888888888888,
                            "#fdca26"
                          ],
                          [
                            1,
                            "#f0f921"
                          ]
                        ],
                        "type": "heatmapgl"
                      }
                    ],
                    "histogram": [
                      {
                        "marker": {
                          "pattern": {
                            "fillmode": "overlay",
                            "size": 10,
                            "solidity": 0.2
                          }
                        },
                        "type": "histogram"
                      }
                    ],
                    "histogram2d": [
                      {
                        "colorbar": {
                          "outlinewidth": 0,
                          "ticks": ""
                        },
                        "colorscale": [
                          [
                            0,
                            "#0d0887"
                          ],
                          [
                            0.1111111111111111,
                            "#46039f"
                          ],
                          [
                            0.2222222222222222,
                            "#7201a8"
                          ],
                          [
                            0.3333333333333333,
                            "#9c179e"
                          ],
                          [
                            0.4444444444444444,
                            "#bd3786"
                          ],
                          [
                            0.5555555555555556,
                            "#d8576b"
                          ],
                          [
                            0.6666666666666666,
                            "#ed7953"
                          ],
                          [
                            0.7777777777777778,
                            "#fb9f3a"
                          ],
                          [
                            0.8888888888888888,
                            "#fdca26"
                          ],
                          [
                            1,
                            "#f0f921"
                          ]
                        ],
                        "type": "histogram2d"
                      }
                    ],
                    "histogram2dcontour": [
                      {
                        "colorbar": {
                          "outlinewidth": 0,
                          "ticks": ""
                        },
                        "colorscale": [
                          [
                            0,
                            "#0d0887"
                          ],
                          [
                            0.1111111111111111,
                            "#46039f"
                          ],
                          [
                            0.2222222222222222,
                            "#7201a8"
                          ],
                          [
                            0.3333333333333333,
                            "#9c179e"
                          ],
                          [
                            0.4444444444444444,
                            "#bd3786"
                          ],
                          [
                            0.5555555555555556,
                            "#d8576b"
                          ],
                          [
                            0.6666666666666666,
                            "#ed7953"
                          ],
                          [
                            0.7777777777777778,
                            "#fb9f3a"
                          ],
                          [
                            0.8888888888888888,
                            "#fdca26"
                          ],
                          [
                            1,
                            "#f0f921"
                          ]
                        ],
                        "type": "histogram2dcontour"
                      }
                    ],
                    "mesh3d": [
                      {
                        "colorbar": {
                          "outlinewidth": 0,
                          "ticks": ""
                        },
                        "type": "mesh3d"
                      }
                    ],
                    "parcoords": [
                      {
                        "line": {
                          "colorbar": {
                            "outlinewidth": 0,
                            "ticks": ""
                          }
                        },
                        "type": "parcoords"
                      }
                    ],
                    "pie": [
                      {
                        "automargin": true,
                        "type": "pie"
                      }
                    ],
                    "scatter": [
                      {
                        "fillpattern": {
                          "fillmode": "overlay",
                          "size": 10,
                          "solidity": 0.2
                        },
                        "type": "scatter"
                      }
                    ],
                    "scatter3d": [
                      {
                        "line": {
                          "colorbar": {
                            "outlinewidth": 0,
                            "ticks": ""
                          }
                        },
                        "marker": {
                          "colorbar": {
                            "outlinewidth": 0,
                            "ticks": ""
                          }
                        },
                        "type": "scatter3d"
                      }
                    ],
                    "scattercarpet": [
                      {
                        "marker": {
                          "colorbar": {
                            "outlinewidth": 0,
                            "ticks": ""
                          }
                        },
                        "type": "scattercarpet"
                      }
                    ],
                    "scattergeo": [
                      {
                        "marker": {
                          "colorbar": {
                            "outlinewidth": 0,
                            "ticks": ""
                          }
                        },
                        "type": "scattergeo"
                      }
                    ],
                    "scattergl": [
                      {
                        "marker": {
                          "colorbar": {
                            "outlinewidth": 0,
                            "ticks": ""
                          }
                        },
                        "type": "scattergl"
                      }
                    ],
                    "scattermapbox": [
                      {
                        "marker": {
                          "colorbar": {
                            "outlinewidth": 0,
                            "ticks": ""
                          }
                        },
                        "type": "scattermapbox"
                      }
                    ],
                    "scatterpolar": [
                      {
                        "marker": {
                          "colorbar": {
                            "outlinewidth": 0,
                            "ticks": ""
                          }
                        },
                        "type": "scatterpolar"
                      }
                    ],
                    "scatterpolargl": [
                      {
                        "marker": {
                          "colorbar": {
                            "outlinewidth": 0,
                            "ticks": ""
                          }
                        },
                        "type": "scatterpolargl"
                      }
                    ],
                    "scatterternary": [
                      {
                        "marker": {
                          "colorbar": {
                            "outlinewidth": 0,
                            "ticks": ""
                          }
                        },
                        "type": "scatterternary"
                      }
                    ],
                    "surface": [
                      {
                        "colorbar": {
                          "outlinewidth": 0,
                          "ticks": ""
                        },
                        "colorscale": [
                          [
                            0,
                            "#0d0887"
                          ],
                          [
                            0.1111111111111111,
                            "#46039f"
                          ],
                          [
                            0.2222222222222222,
                            "#7201a8"
                          ],
                          [
                            0.3333333333333333,
                            "#9c179e"
                          ],
                          [
                            0.4444444444444444,
                            "#bd3786"
                          ],
                          [
                            0.5555555555555556,
                            "#d8576b"
                          ],
                          [
                            0.6666666666666666,
                            "#ed7953"
                          ],
                          [
                            0.7777777777777778,
                            "#fb9f3a"
                          ],
                          [
                            0.8888888888888888,
                            "#fdca26"
                          ],
                          [
                            1,
                            "#f0f921"
                          ]
                        ],
                        "type": "surface"
                      }
                    ],
                    "table": [
                      {
                        "cells": {
                          "fill": {
                            "color": "#EBF0F8"
                          },
                          "line": {
                            "color": "white"
                          }
                        },
                        "header": {
                          "fill": {
                            "color": "#C8D4E3"
                          },
                          "line": {
                            "color": "white"
                          }
                        },
                        "type": "table"
                      }
                    ]
                  },
                  "layout": {
                    "annotationdefaults": {
                      "arrowcolor": "#2a3f5f",
                      "arrowhead": 0,
                      "arrowwidth": 1
                    },
                    "autotypenumbers": "strict",
                    "coloraxis": {
                      "colorbar": {
                        "outlinewidth": 0,
                        "ticks": ""
                      }
                    },
                    "colorscale": {
                      "diverging": [
                        [
                          0,
                          "#8e0152"
                        ],
                        [
                          0.1,
                          "#c51b7d"
                        ],
                        [
                          0.2,
                          "#de77ae"
                        ],
                        [
                          0.3,
                          "#f1b6da"
                        ],
                        [
                          0.4,
                          "#fde0ef"
                        ],
                        [
                          0.5,
                          "#f7f7f7"
                        ],
                        [
                          0.6,
                          "#e6f5d0"
                        ],
                        [
                          0.7,
                          "#b8e186"
                        ],
                        [
                          0.8,
                          "#7fbc41"
                        ],
                        [
                          0.9,
                          "#4d9221"
                        ],
                        [
                          1,
                          "#276419"
                        ]
                      ],
                      "sequential": [
                        [
                          0,
                          "#0d0887"
                        ],
                        [
                          0.1111111111111111,
                          "#46039f"
                        ],
                        [
                          0.2222222222222222,
                          "#7201a8"
                        ],
                        [
                          0.3333333333333333,
                          "#9c179e"
                        ],
                        [
                          0.4444444444444444,
                          "#bd3786"
                        ],
                        [
                          0.5555555555555556,
                          "#d8576b"
                        ],
                        [
                          0.6666666666666666,
                          "#ed7953"
                        ],
                        [
                          0.7777777777777778,
                          "#fb9f3a"
                        ],
                        [
                          0.8888888888888888,
                          "#fdca26"
                        ],
                        [
                          1,
                          "#f0f921"
                        ]
                      ],
                      "sequentialminus": [
                        [
                          0,
                          "#0d0887"
                        ],
                        [
                          0.1111111111111111,
                          "#46039f"
                        ],
                        [
                          0.2222222222222222,
                          "#7201a8"
                        ],
                        [
                          0.3333333333333333,
                          "#9c179e"
                        ],
                        [
                          0.4444444444444444,
                          "#bd3786"
                        ],
                        [
                          0.5555555555555556,
                          "#d8576b"
                        ],
                        [
                          0.6666666666666666,
                          "#ed7953"
                        ],
                        [
                          0.7777777777777778,
                          "#fb9f3a"
                        ],
                        [
                          0.8888888888888888,
                          "#fdca26"
                        ],
                        [
                          1,
                          "#f0f921"
                        ]
                      ]
                    },
                    "colorway": [
                      "#636efa",
                      "#EF553B",
                      "#00cc96",
                      "#ab63fa",
                      "#FFA15A",
                      "#19d3f3",
                      "#FF6692",
                      "#B6E880",
                      "#FF97FF",
                      "#FECB52"
                    ],
                    "font": {
                      "color": "#2a3f5f"
                    },
                    "geo": {
                      "bgcolor": "white",
                      "lakecolor": "white",
                      "landcolor": "#E5ECF6",
                      "showlakes": true,
                      "showland": true,
                      "subunitcolor": "white"
                    },
                    "hoverlabel": {
                      "align": "left"
                    },
                    "hovermode": "closest",
                    "mapbox": {
                      "style": "light"
                    },
                    "paper_bgcolor": "white",
                    "plot_bgcolor": "#E5ECF6",
                    "polar": {
                      "angularaxis": {
                        "gridcolor": "white",
                        "linecolor": "white",
                        "ticks": ""
                      },
                      "bgcolor": "#E5ECF6",
                      "radialaxis": {
                        "gridcolor": "white",
                        "linecolor": "white",
                        "ticks": ""
                      }
                    },
                    "scene": {
                      "xaxis": {
                        "backgroundcolor": "#E5ECF6",
                        "gridcolor": "white",
                        "gridwidth": 2,
                        "linecolor": "white",
                        "showbackground": true,
                        "ticks": "",
                        "zerolinecolor": "white"
                      },
                      "yaxis": {
                        "backgroundcolor": "#E5ECF6",
                        "gridcolor": "white",
                        "gridwidth": 2,
                        "linecolor": "white",
                        "showbackground": true,
                        "ticks": "",
                        "zerolinecolor": "white"
                      },
                      "zaxis": {
                        "backgroundcolor": "#E5ECF6",
                        "gridcolor": "white",
                        "gridwidth": 2,
                        "linecolor": "white",
                        "showbackground": true,
                        "ticks": "",
                        "zerolinecolor": "white"
                      }
                    },
                    "shapedefaults": {
                      "line": {
                        "color": "#2a3f5f"
                      }
                    },
                    "ternary": {
                      "aaxis": {
                        "gridcolor": "white",
                        "linecolor": "white",
                        "ticks": ""
                      },
                      "baxis": {
                        "gridcolor": "white",
                        "linecolor": "white",
                        "ticks": ""
                      },
                      "bgcolor": "#E5ECF6",
                      "caxis": {
                        "gridcolor": "white",
                        "linecolor": "white",
                        "ticks": ""
                      }
                    },
                    "title": {
                      "x": 0.05
                    },
                    "xaxis": {
                      "automargin": true,
                      "gridcolor": "white",
                      "linecolor": "white",
                      "ticks": "",
                      "title": {
                        "standoff": 15
                      },
                      "zerolinecolor": "white",
                      "zerolinewidth": 2
                    },
                    "yaxis": {
                      "automargin": true,
                      "gridcolor": "white",
                      "linecolor": "white",
                      "ticks": "",
                      "title": {
                        "standoff": 15
                      },
                      "zerolinecolor": "white",
                      "zerolinewidth": 2
                    }
                  }
                }
              }
            },
            "text/html": [
              "<div>                            <div id=\"a44bde70-21a0-4a65-9a64-c2f566e35093\" class=\"plotly-graph-div\" style=\"height:525px; width:100%;\"></div>            <script type=\"text/javascript\">                require([\"plotly\"], function(Plotly) {                    window.PLOTLYENV=window.PLOTLYENV || {};                                    if (document.getElementById(\"a44bde70-21a0-4a65-9a64-c2f566e35093\")) {                    Plotly.newPlot(                        \"a44bde70-21a0-4a65-9a64-c2f566e35093\",                        [{\"labels\":[\"Retained (0)\",\"Churned (1)\"],\"values\":[4293,707],\"type\":\"pie\"}],                        {\"template\":{\"data\":{\"histogram2dcontour\":[{\"type\":\"histogram2dcontour\",\"colorbar\":{\"outlinewidth\":0,\"ticks\":\"\"},\"colorscale\":[[0.0,\"#0d0887\"],[0.1111111111111111,\"#46039f\"],[0.2222222222222222,\"#7201a8\"],[0.3333333333333333,\"#9c179e\"],[0.4444444444444444,\"#bd3786\"],[0.5555555555555556,\"#d8576b\"],[0.6666666666666666,\"#ed7953\"],[0.7777777777777778,\"#fb9f3a\"],[0.8888888888888888,\"#fdca26\"],[1.0,\"#f0f921\"]]}],\"choropleth\":[{\"type\":\"choropleth\",\"colorbar\":{\"outlinewidth\":0,\"ticks\":\"\"}}],\"histogram2d\":[{\"type\":\"histogram2d\",\"colorbar\":{\"outlinewidth\":0,\"ticks\":\"\"},\"colorscale\":[[0.0,\"#0d0887\"],[0.1111111111111111,\"#46039f\"],[0.2222222222222222,\"#7201a8\"],[0.3333333333333333,\"#9c179e\"],[0.4444444444444444,\"#bd3786\"],[0.5555555555555556,\"#d8576b\"],[0.6666666666666666,\"#ed7953\"],[0.7777777777777778,\"#fb9f3a\"],[0.8888888888888888,\"#fdca26\"],[1.0,\"#f0f921\"]]}],\"heatmap\":[{\"type\":\"heatmap\",\"colorbar\":{\"outlinewidth\":0,\"ticks\":\"\"},\"colorscale\":[[0.0,\"#0d0887\"],[0.1111111111111111,\"#46039f\"],[0.2222222222222222,\"#7201a8\"],[0.3333333333333333,\"#9c179e\"],[0.4444444444444444,\"#bd3786\"],[0.5555555555555556,\"#d8576b\"],[0.6666666666666666,\"#ed7953\"],[0.7777777777777778,\"#fb9f3a\"],[0.8888888888888888,\"#fdca26\"],[1.0,\"#f0f921\"]]}],\"heatmapgl\":[{\"type\":\"heatmapgl\",\"colorbar\":{\"outlinewidth\":0,\"ticks\":\"\"},\"colorscale\":[[0.0,\"#0d0887\"],[0.1111111111111111,\"#46039f\"],[0.2222222222222222,\"#7201a8\"],[0.3333333333333333,\"#9c179e\"],[0.4444444444444444,\"#bd3786\"],[0.5555555555555556,\"#d8576b\"],[0.6666666666666666,\"#ed7953\"],[0.7777777777777778,\"#fb9f3a\"],[0.8888888888888888,\"#fdca26\"],[1.0,\"#f0f921\"]]}],\"contourcarpet\":[{\"type\":\"contourcarpet\",\"colorbar\":{\"outlinewidth\":0,\"ticks\":\"\"}}],\"contour\":[{\"type\":\"contour\",\"colorbar\":{\"outlinewidth\":0,\"ticks\":\"\"},\"colorscale\":[[0.0,\"#0d0887\"],[0.1111111111111111,\"#46039f\"],[0.2222222222222222,\"#7201a8\"],[0.3333333333333333,\"#9c179e\"],[0.4444444444444444,\"#bd3786\"],[0.5555555555555556,\"#d8576b\"],[0.6666666666666666,\"#ed7953\"],[0.7777777777777778,\"#fb9f3a\"],[0.8888888888888888,\"#fdca26\"],[1.0,\"#f0f921\"]]}],\"surface\":[{\"type\":\"surface\",\"colorbar\":{\"outlinewidth\":0,\"ticks\":\"\"},\"colorscale\":[[0.0,\"#0d0887\"],[0.1111111111111111,\"#46039f\"],[0.2222222222222222,\"#7201a8\"],[0.3333333333333333,\"#9c179e\"],[0.4444444444444444,\"#bd3786\"],[0.5555555555555556,\"#d8576b\"],[0.6666666666666666,\"#ed7953\"],[0.7777777777777778,\"#fb9f3a\"],[0.8888888888888888,\"#fdca26\"],[1.0,\"#f0f921\"]]}],\"mesh3d\":[{\"type\":\"mesh3d\",\"colorbar\":{\"outlinewidth\":0,\"ticks\":\"\"}}],\"scatter\":[{\"fillpattern\":{\"fillmode\":\"overlay\",\"size\":10,\"solidity\":0.2},\"type\":\"scatter\"}],\"parcoords\":[{\"type\":\"parcoords\",\"line\":{\"colorbar\":{\"outlinewidth\":0,\"ticks\":\"\"}}}],\"scatterpolargl\":[{\"type\":\"scatterpolargl\",\"marker\":{\"colorbar\":{\"outlinewidth\":0,\"ticks\":\"\"}}}],\"bar\":[{\"error_x\":{\"color\":\"#2a3f5f\"},\"error_y\":{\"color\":\"#2a3f5f\"},\"marker\":{\"line\":{\"color\":\"#E5ECF6\",\"width\":0.5},\"pattern\":{\"fillmode\":\"overlay\",\"size\":10,\"solidity\":0.2}},\"type\":\"bar\"}],\"scattergeo\":[{\"type\":\"scattergeo\",\"marker\":{\"colorbar\":{\"outlinewidth\":0,\"ticks\":\"\"}}}],\"scatterpolar\":[{\"type\":\"scatterpolar\",\"marker\":{\"colorbar\":{\"outlinewidth\":0,\"ticks\":\"\"}}}],\"histogram\":[{\"marker\":{\"pattern\":{\"fillmode\":\"overlay\",\"size\":10,\"solidity\":0.2}},\"type\":\"histogram\"}],\"scattergl\":[{\"type\":\"scattergl\",\"marker\":{\"colorbar\":{\"outlinewidth\":0,\"ticks\":\"\"}}}],\"scatter3d\":[{\"type\":\"scatter3d\",\"line\":{\"colorbar\":{\"outlinewidth\":0,\"ticks\":\"\"}},\"marker\":{\"colorbar\":{\"outlinewidth\":0,\"ticks\":\"\"}}}],\"scattermapbox\":[{\"type\":\"scattermapbox\",\"marker\":{\"colorbar\":{\"outlinewidth\":0,\"ticks\":\"\"}}}],\"scatterternary\":[{\"type\":\"scatterternary\",\"marker\":{\"colorbar\":{\"outlinewidth\":0,\"ticks\":\"\"}}}],\"scattercarpet\":[{\"type\":\"scattercarpet\",\"marker\":{\"colorbar\":{\"outlinewidth\":0,\"ticks\":\"\"}}}],\"carpet\":[{\"aaxis\":{\"endlinecolor\":\"#2a3f5f\",\"gridcolor\":\"white\",\"linecolor\":\"white\",\"minorgridcolor\":\"white\",\"startlinecolor\":\"#2a3f5f\"},\"baxis\":{\"endlinecolor\":\"#2a3f5f\",\"gridcolor\":\"white\",\"linecolor\":\"white\",\"minorgridcolor\":\"white\",\"startlinecolor\":\"#2a3f5f\"},\"type\":\"carpet\"}],\"table\":[{\"cells\":{\"fill\":{\"color\":\"#EBF0F8\"},\"line\":{\"color\":\"white\"}},\"header\":{\"fill\":{\"color\":\"#C8D4E3\"},\"line\":{\"color\":\"white\"}},\"type\":\"table\"}],\"barpolar\":[{\"marker\":{\"line\":{\"color\":\"#E5ECF6\",\"width\":0.5},\"pattern\":{\"fillmode\":\"overlay\",\"size\":10,\"solidity\":0.2}},\"type\":\"barpolar\"}],\"pie\":[{\"automargin\":true,\"type\":\"pie\"}]},\"layout\":{\"autotypenumbers\":\"strict\",\"colorway\":[\"#636efa\",\"#EF553B\",\"#00cc96\",\"#ab63fa\",\"#FFA15A\",\"#19d3f3\",\"#FF6692\",\"#B6E880\",\"#FF97FF\",\"#FECB52\"],\"font\":{\"color\":\"#2a3f5f\"},\"hovermode\":\"closest\",\"hoverlabel\":{\"align\":\"left\"},\"paper_bgcolor\":\"white\",\"plot_bgcolor\":\"#E5ECF6\",\"polar\":{\"bgcolor\":\"#E5ECF6\",\"angularaxis\":{\"gridcolor\":\"white\",\"linecolor\":\"white\",\"ticks\":\"\"},\"radialaxis\":{\"gridcolor\":\"white\",\"linecolor\":\"white\",\"ticks\":\"\"}},\"ternary\":{\"bgcolor\":\"#E5ECF6\",\"aaxis\":{\"gridcolor\":\"white\",\"linecolor\":\"white\",\"ticks\":\"\"},\"baxis\":{\"gridcolor\":\"white\",\"linecolor\":\"white\",\"ticks\":\"\"},\"caxis\":{\"gridcolor\":\"white\",\"linecolor\":\"white\",\"ticks\":\"\"}},\"coloraxis\":{\"colorbar\":{\"outlinewidth\":0,\"ticks\":\"\"}},\"colorscale\":{\"sequential\":[[0.0,\"#0d0887\"],[0.1111111111111111,\"#46039f\"],[0.2222222222222222,\"#7201a8\"],[0.3333333333333333,\"#9c179e\"],[0.4444444444444444,\"#bd3786\"],[0.5555555555555556,\"#d8576b\"],[0.6666666666666666,\"#ed7953\"],[0.7777777777777778,\"#fb9f3a\"],[0.8888888888888888,\"#fdca26\"],[1.0,\"#f0f921\"]],\"sequentialminus\":[[0.0,\"#0d0887\"],[0.1111111111111111,\"#46039f\"],[0.2222222222222222,\"#7201a8\"],[0.3333333333333333,\"#9c179e\"],[0.4444444444444444,\"#bd3786\"],[0.5555555555555556,\"#d8576b\"],[0.6666666666666666,\"#ed7953\"],[0.7777777777777778,\"#fb9f3a\"],[0.8888888888888888,\"#fdca26\"],[1.0,\"#f0f921\"]],\"diverging\":[[0,\"#8e0152\"],[0.1,\"#c51b7d\"],[0.2,\"#de77ae\"],[0.3,\"#f1b6da\"],[0.4,\"#fde0ef\"],[0.5,\"#f7f7f7\"],[0.6,\"#e6f5d0\"],[0.7,\"#b8e186\"],[0.8,\"#7fbc41\"],[0.9,\"#4d9221\"],[1,\"#276419\"]]},\"xaxis\":{\"gridcolor\":\"white\",\"linecolor\":\"white\",\"ticks\":\"\",\"title\":{\"standoff\":15},\"zerolinecolor\":\"white\",\"automargin\":true,\"zerolinewidth\":2},\"yaxis\":{\"gridcolor\":\"white\",\"linecolor\":\"white\",\"ticks\":\"\",\"title\":{\"standoff\":15},\"zerolinecolor\":\"white\",\"automargin\":true,\"zerolinewidth\":2},\"scene\":{\"xaxis\":{\"backgroundcolor\":\"#E5ECF6\",\"gridcolor\":\"white\",\"linecolor\":\"white\",\"showbackground\":true,\"ticks\":\"\",\"zerolinecolor\":\"white\",\"gridwidth\":2},\"yaxis\":{\"backgroundcolor\":\"#E5ECF6\",\"gridcolor\":\"white\",\"linecolor\":\"white\",\"showbackground\":true,\"ticks\":\"\",\"zerolinecolor\":\"white\",\"gridwidth\":2},\"zaxis\":{\"backgroundcolor\":\"#E5ECF6\",\"gridcolor\":\"white\",\"linecolor\":\"white\",\"showbackground\":true,\"ticks\":\"\",\"zerolinecolor\":\"white\",\"gridwidth\":2}},\"shapedefaults\":{\"line\":{\"color\":\"#2a3f5f\"}},\"annotationdefaults\":{\"arrowcolor\":\"#2a3f5f\",\"arrowhead\":0,\"arrowwidth\":1},\"geo\":{\"bgcolor\":\"white\",\"landcolor\":\"#E5ECF6\",\"subunitcolor\":\"white\",\"showland\":true,\"showlakes\":true,\"lakecolor\":\"white\"},\"title\":{\"x\":0.05},\"mapbox\":{\"style\":\"light\"}}}},                        {\"responsive\": true}                    ).then(function(){\n",
              "                            \n",
              "var gd = document.getElementById('a44bde70-21a0-4a65-9a64-c2f566e35093');\n",
              "var x = new MutationObserver(function (mutations, observer) {{\n",
              "        var display = window.getComputedStyle(gd).display;\n",
              "        if (!display || display === 'none') {{\n",
              "            console.log([gd, 'removed!']);\n",
              "            Plotly.purge(gd);\n",
              "            observer.disconnect();\n",
              "        }}\n",
              "}});\n",
              "\n",
              "// Listen for the removal of the full notebook cells\n",
              "var notebookContainer = gd.closest('#notebook-container');\n",
              "if (notebookContainer) {{\n",
              "    x.observe(notebookContainer, {childList: true});\n",
              "}}\n",
              "\n",
              "// Listen for the clearing of the current output cell\n",
              "var outputEl = gd.closest('.output');\n",
              "if (outputEl) {{\n",
              "    x.observe(outputEl, {childList: true});\n",
              "}}\n",
              "\n",
              "                        })                };                });            </script>        </div>"
            ]
          },
          "metadata": {},
          "output_type": "display_data"
        }
      ],
      "source": [
        "#show class with people left and retained\n",
        "DF['class'].value_counts() \n",
        "\n",
        "fig = go.Figure(data= [go.Pie(labels=['Retained (0)', 'Churned (1)'], values= DF['class'].value_counts())])\n",
        "fig.show()\n"
      ]
    },
    {
      "attachments": {},
      "cell_type": "markdown",
      "metadata": {},
      "source": [
        "### Churn by Area code"
      ]
    },
    {
      "cell_type": "code",
      "execution_count": 27,
      "metadata": {
        "id": "NRVU8PW6nCmk"
      },
      "outputs": [
        {
          "name": "stdout",
          "output_type": "stream",
          "text": [
            "   class  area_code  Freq\n",
            "0      0        415  2149\n",
            "1      0        408  1082\n",
            "2      0        510  1062\n",
            "3      1        415   346\n",
            "4      1        510   184\n",
            "5      1        408   177\n"
          ]
        },
        {
          "data": {
            "image/png": "[encoded data removed]",
            "text/plain": [
              "<Figure size 500x500 with 1 Axes>"
            ]
          },
          "metadata": {},
          "output_type": "display_data"
        }
      ],
      "source": [
        "DF_by_area = DF.groupby('class')['area_code'].value_counts().to_frame().rename(columns={'area_code': 'Freq'}).reset_index().sort_values('class') \n",
        "print(DF_by_area)\n",
        "\n",
        "group_names = DF['class'].value_counts().index\n",
        "group_size = DF['class'].value_counts()\n",
        "subgroup_names = DF_by_area['area_code']\n",
        "subgroup_size = DF_by_area['Freq']\n",
        "\n",
        "group_names1 = {'Stayed':group_names[0], 'Churned':group_names[1]}\n",
        "\n",
        "# Create colors\n",
        "a, b =[plt.cm.Blues, plt.cm.Reds]\n",
        " \n",
        "# First Ring (outside)\n",
        "fig, ax = plt.subplots(figsize = (5,5))\n",
        "fig.suptitle('Churn by Area Code')\n",
        "ax.axis('equal')\n",
        "mypie, _ = ax.pie(group_size, radius=1.3, labels=group_names1, colors=[a(0.6), b(0.6)])\n",
        "plt.setp( mypie, width=0.3, edgecolor='white')\n",
        "\n",
        "\n",
        "# Second Ring (Inside)\n",
        "mypie2, _ = ax.pie(subgroup_size, radius=1.3-0.3, labels=subgroup_names, labeldistance=0.7, colors=[a(0.5), a(0.4), b(0.5), b(0.4)])\n",
        "plt.setp( mypie2, width=0.4, edgecolor='white')\n",
        "plt.margins(0,0)\n",
        " \n",
        "# show it\n",
        "plt.show()"
      ]
    },
    {
      "cell_type": "code",
      "execution_count": 28,
      "metadata": {
        "colab": {
          "base_uri": "https://localhost:8080/",
          "height": 490
        },
        "id": "RKGEKmGBsx-C",
        "outputId": "c0574e5c-0ab8-424a-d3f1-249fd338ddba"
      },
      "outputs": [
        {
          "data": {
            "text/plain": [
              "Text(0.5, 1.0, 'Distribution of day charges by churn')"
            ]
          },
          "execution_count": 28,
          "metadata": {},
          "output_type": "execute_result"
        },
        {
          "data": {
            "image/png": "[encoded data removed]",
            "text/plain": [
              "<Figure size 800x700 with 1 Axes>"
            ]
          },
          "metadata": {},
          "output_type": "display_data"
        }
      ],
      "source": [
        "# Churn by day charges\n",
        "ax = sns.kdeplot(DF.total_day_charge[(DF[\"class\"] == 0)],\n",
        "               color = \"Red\", fill = True)\n",
        "ax = sns.kdeplot(DF.total_day_charge[(DF[\"class\"] == 1)],\n",
        "               color = \"Blue\", fill = True)\n",
        "\n",
        "ax.legend([\"Retain\", \"Churn\"], loc = \"upper right\")\n",
        "ax.set_ylabel(\"Density\")\n",
        "ax.set_xlabel(\"Day Charges\")\n",
        "ax.set_title(\"Distribution of day charges by churn\")"
      ]
    },
    {
      "cell_type": "code",
      "execution_count": 29,
      "metadata": {
        "colab": {
          "base_uri": "https://localhost:8080/",
          "height": 490
        },
        "id": "2T53xQs8vEun",
        "outputId": "380d6d2c-3d8f-4e4c-ae98-9bdbbb86ef46"
      },
      "outputs": [
        {
          "data": {
            "text/plain": [
              "Text(0.5, 1.0, 'Distribution of evening charges by churn')"
            ]
          },
          "execution_count": 29,
          "metadata": {},
          "output_type": "execute_result"
        },
        {
          "data": {
            "image/png": "[encoded data removed]",
            "text/plain": [
              "<Figure size 800x700 with 1 Axes>"
            ]
          },
          "metadata": {},
          "output_type": "display_data"
        }
      ],
      "source": [
        "# Churn by evening charges\n",
        "ax = sns.kdeplot(DF.total_eve_charge[(DF[\"class\"] == 0)],\n",
        "               color = \"Red\", fill = True)\n",
        "ax = sns.kdeplot(DF.total_eve_charge[(DF[\"class\"] == 1)],\n",
        "               color = \"Blue\", fill = True)\n",
        "\n",
        "ax.legend([\"Retain\", \"Churn\"], loc = \"upper right\")\n",
        "ax.set_ylabel(\"Density\")\n",
        "ax.set_xlabel(\"Evening Charges\")\n",
        "ax.set_title(\"Distribution of evening charges by churn\")"
      ]
    },
    {
      "cell_type": "code",
      "execution_count": 45,
      "metadata": {
        "id": "BAfZI9w1v32q"
      },
      "outputs": [],
      "source": [
        "# Identify feature and prepare data before Model Training\n",
        "X = DF.drop([\"class\", \"area_code\"], axis=\"columns\")\n",
        "y = DF[\"class\"] \n",
        "\n",
        "X_train, X_test, y_train, y_test = train_test_split(X, y, test_size = 0.30, random_state=10, stratify=y)\n"
      ]
    },
    {
      "cell_type": "markdown",
      "metadata": {
        "id": "7T4n2QG14l1v"
      },
      "source": [
        "# Random Forest "
      ]
    },
    {
      "cell_type": "code",
      "execution_count": 46,
      "metadata": {
        "colab": {
          "base_uri": "https://localhost:8080/"
        },
        "id": "wOhshw0g7p7I",
        "outputId": "5c74c3d5-d895-4e44-fd40-0a5a3730d27e"
      },
      "outputs": [],
      "source": [
        "model_RF = RandomForestClassifier(random_state=10)\n",
        "model_RF.fit(X_train, y_train.values.ravel()) \n",
        "y_predict = model_RF.predict(X_test)\n"
      ]
    },
    {
      "attachments": {},
      "cell_type": "markdown",
      "metadata": {},
      "source": [
        "# Write custom routine to evaluate my classifiers\n"
      ]
    },
    {
      "cell_type": "code",
      "execution_count": 47,
      "metadata": {},
      "outputs": [],
      "source": [
        "\n",
        "def evaluate_classifier(classifier, y_test, X_test):   #just give it the classifier and the true 'y' values \n",
        "    \"\"\"\n",
        "    *** Calculates accuracy scores and prints the resutls. Does not return anything *** \n",
        "    \"\"\"\n",
        "    y_predict = classifier.predict(X_test)\n",
        "    print(\"Overall accuracy', %.3f\" %accuracy_score(y_test, y_predict))\n",
        "    # calculate prediction\n",
        "    precision = precision_score(y_test, y_predict)\n",
        "\n",
        "    print('Precision: %.3f' % precision)\n",
        "    recall = recall_score(y_test, y_predict)\n",
        "    print('Recall: %.3f' % recall)\n",
        "    f1 = f1_score(y_test, y_predict)\n",
        "    print('F1: %.3f' % f1)\n",
        "\n",
        "    print('_____Confustion matrix__________ \\n\\n', confusion_matrix(y_test, y_predict))\n",
        "    print('_____Classification report________ \\n\\n', classification_report(y_test, y_predict))\n",
        "\n"
      ]
    },
    {
      "cell_type": "code",
      "execution_count": 48,
      "metadata": {},
      "outputs": [
        {
          "name": "stdout",
          "output_type": "stream",
          "text": [
            "Overall accuracy', 0.952\n",
            "Precision: 0.949\n",
            "Recall: 0.698\n",
            "F1: 0.804\n",
            "_____Confustion matrix__________ \n",
            "\n",
            " [[1280    8]\n",
            " [  64  148]]\n",
            "_____Classification report________ \n",
            "\n",
            "               precision    recall  f1-score   support\n",
            "\n",
            "           0       0.95      0.99      0.97      1288\n",
            "           1       0.95      0.70      0.80       212\n",
            "\n",
            "    accuracy                           0.95      1500\n",
            "   macro avg       0.95      0.85      0.89      1500\n",
            "weighted avg       0.95      0.95      0.95      1500\n",
            "\n"
          ]
        }
      ],
      "source": [
        "evaluate_classifier(model_RF, y_test, X_test)"
      ]
    },
    {
      "cell_type": "markdown",
      "metadata": {
        "colab": {
          "base_uri": "https://localhost:8080/"
        },
        "id": "0Z3tVhKJ-e1Y",
        "outputId": "d561bc99-08bc-4c27-8acd-5a133c6f78a8"
      },
      "source": [
        "# Logistic Regression\n"
      ]
    },
    {
      "cell_type": "code",
      "execution_count": 49,
      "metadata": {},
      "outputs": [
        {
          "name": "stdout",
          "output_type": "stream",
          "text": [
            "Overall accuracy', 0.867\n",
            "Precision: 0.600\n",
            "Recall: 0.184\n",
            "F1: 0.282\n",
            "_____Confustion matrix__________ \n",
            "\n",
            " [[1262   26]\n",
            " [ 173   39]]\n",
            "_____Classification report________ \n",
            "\n",
            "               precision    recall  f1-score   support\n",
            "\n",
            "           0       0.88      0.98      0.93      1288\n",
            "           1       0.60      0.18      0.28       212\n",
            "\n",
            "    accuracy                           0.87      1500\n",
            "   macro avg       0.74      0.58      0.60      1500\n",
            "weighted avg       0.84      0.87      0.84      1500\n",
            "\n"
          ]
        }
      ],
      "source": [
        "model_LR = LogisticRegression(solver='liblinear',random_state=10)\n",
        "model_LR.fit(X_train, y_train)\n",
        "# call custom function \n",
        "evaluate_classifier(model_LR, y_test, X_test)\n"
      ]
    },
    {
      "attachments": {},
      "cell_type": "markdown",
      "metadata": {
        "colab": {
          "base_uri": "https://localhost:8080/"
        },
        "id": "y4pIOC0DFWOB",
        "outputId": "8a0efed3-fbf9-4e38-b3be-5660371c7e9f"
      },
      "source": [
        "# SUPPORT VECTOR MACHINE CLASSIFIER\n"
      ]
    },
    {
      "cell_type": "code",
      "execution_count": 50,
      "metadata": {},
      "outputs": [
        {
          "name": "stderr",
          "output_type": "stream",
          "text": [
            "c:\\Users\\Zohaib\\AppData\\Local\\Programs\\Python\\Python311\\Lib\\site-packages\\sklearn\\svm\\_base.py:1244: ConvergenceWarning:\n",
            "\n",
            "Liblinear failed to converge, increase the number of iterations.\n",
            "\n",
            "c:\\Users\\Zohaib\\AppData\\Local\\Programs\\Python\\Python311\\Lib\\site-packages\\sklearn\\svm\\_base.py:1244: ConvergenceWarning:\n",
            "\n",
            "Liblinear failed to converge, increase the number of iterations.\n",
            "\n",
            "c:\\Users\\Zohaib\\AppData\\Local\\Programs\\Python\\Python311\\Lib\\site-packages\\sklearn\\svm\\_base.py:1244: ConvergenceWarning:\n",
            "\n",
            "Liblinear failed to converge, increase the number of iterations.\n",
            "\n",
            "c:\\Users\\Zohaib\\AppData\\Local\\Programs\\Python\\Python311\\Lib\\site-packages\\sklearn\\svm\\_base.py:1244: ConvergenceWarning:\n",
            "\n",
            "Liblinear failed to converge, increase the number of iterations.\n",
            "\n"
          ]
        },
        {
          "name": "stdout",
          "output_type": "stream",
          "text": [
            "Overall accuracy', 0.866\n",
            "Precision: 0.641\n",
            "Recall: 0.118\n",
            "F1: 0.199\n",
            "_____Confustion matrix__________ \n",
            "\n",
            " [[1274   14]\n",
            " [ 187   25]]\n",
            "_____Classification report________ \n",
            "\n",
            "               precision    recall  f1-score   support\n",
            "\n",
            "           0       0.87      0.99      0.93      1288\n",
            "           1       0.64      0.12      0.20       212\n",
            "\n",
            "    accuracy                           0.87      1500\n",
            "   macro avg       0.76      0.55      0.56      1500\n",
            "weighted avg       0.84      0.87      0.82      1500\n",
            "\n"
          ]
        },
        {
          "name": "stderr",
          "output_type": "stream",
          "text": [
            "c:\\Users\\Zohaib\\AppData\\Local\\Programs\\Python\\Python311\\Lib\\site-packages\\sklearn\\svm\\_base.py:1244: ConvergenceWarning:\n",
            "\n",
            "Liblinear failed to converge, increase the number of iterations.\n",
            "\n"
          ]
        }
      ],
      "source": [
        "model_svm = CalibratedClassifierCV()\n",
        "model_svm.fit(X_train, y_train)    \n",
        "evaluate_classifier(model_svm, y_test, X_test)\n"
      ]
    },
    {
      "cell_type": "markdown",
      "metadata": {
        "id": "VOsUUCopP7KL"
      },
      "source": [
        "# K-NEAREST NEIGHBOUR (KNN)"
      ]
    },
    {
      "cell_type": "code",
      "execution_count": 51,
      "metadata": {
        "colab": {
          "base_uri": "https://localhost:8080/"
        },
        "id": "aVCSnsvIP7NP",
        "outputId": "f2976990-b564-4c99-81d3-be675626e2b4"
      },
      "outputs": [
        {
          "name": "stdout",
          "output_type": "stream",
          "text": [
            "Overall accuracy', 0.859\n",
            "Precision: 0.500\n",
            "Recall: 0.085\n",
            "F1: 0.145\n",
            "_____Confustion matrix__________ \n",
            "\n",
            " [[1270   18]\n",
            " [ 194   18]]\n",
            "_____Classification report________ \n",
            "\n",
            "               precision    recall  f1-score   support\n",
            "\n",
            "           0       0.87      0.99      0.92      1288\n",
            "           1       0.50      0.08      0.15       212\n",
            "\n",
            "    accuracy                           0.86      1500\n",
            "   macro avg       0.68      0.54      0.53      1500\n",
            "weighted avg       0.82      0.86      0.81      1500\n",
            "\n"
          ]
        }
      ],
      "source": [
        "model_knn = KNeighborsClassifier()\n",
        "model_knn.fit(X_train, y_train)\n",
        "evaluate_classifier(model_knn, y_test, X_test)\n"
      ]
    },
    {
      "cell_type": "markdown",
      "metadata": {
        "id": "JB9MIpdrP7dN"
      },
      "source": [
        "# NAIVE BAYES CLASSIFIER"
      ]
    },
    {
      "cell_type": "code",
      "execution_count": 52,
      "metadata": {
        "colab": {
          "base_uri": "https://localhost:8080/"
        },
        "id": "OU4ITMHHP7f0",
        "outputId": "0339bad9-e7d6-4cb4-9542-d452ad026f07"
      },
      "outputs": [
        {
          "name": "stdout",
          "output_type": "stream",
          "text": [
            "Overall accuracy', 0.859\n",
            "Precision: 0.500\n",
            "Recall: 0.382\n",
            "F1: 0.433\n",
            "_____Confustion matrix__________ \n",
            "\n",
            " [[1207   81]\n",
            " [ 131   81]]\n",
            "_____Classification report________ \n",
            "\n",
            "               precision    recall  f1-score   support\n",
            "\n",
            "           0       0.90      0.94      0.92      1288\n",
            "           1       0.50      0.38      0.43       212\n",
            "\n",
            "    accuracy                           0.86      1500\n",
            "   macro avg       0.70      0.66      0.68      1500\n",
            "weighted avg       0.85      0.86      0.85      1500\n",
            "\n"
          ]
        }
      ],
      "source": [
        "model_gnb = GaussianNB()\n",
        "model_gnb.fit(X_train, y_train)\n",
        "evaluate_classifier(model_gnb, y_test, X_test)\n"
      ]
    },
    {
      "cell_type": "markdown",
      "metadata": {
        "id": "QOtoWKSpbvUi"
      },
      "source": [
        "# PLOT ROC CURVES FOR THE 5 MODELS AND FIND AUC SCORES"
      ]
    },
    {
      "cell_type": "code",
      "execution_count": 53,
      "metadata": {},
      "outputs": [],
      "source": [
        "#Calcualte TPR and FPR \n",
        "fpr1, tpr1, thresh1 = roc_curve(y_test, model_LR.predict_proba(X_test)[:,1], pos_label = 1 )  \n",
        "fpr2, tpr2, thresh2 = roc_curve(y_test, model_svm.predict_proba(X_test)[:, 1], pos_label = 1)\n",
        "fpr3, tpr3, thresh3 = roc_curve(y_test, model_RF.predict_proba(X_test)[:, 1], pos_label = 1)\n",
        "fpr4, tpr4, thresh4 = roc_curve(y_test, model_knn.predict_proba(X_test)[:, 1], pos_label = 1)\n",
        "fpr5, tpr5, thresh5 = roc_curve(y_test, model_gnb.predict_proba(X_test)[:, 1], pos_label = 1)\n"
      ]
    },
    {
      "cell_type": "code",
      "execution_count": 54,
      "metadata": {
        "colab": {
          "base_uri": "https://localhost:8080/",
          "height": 472
        },
        "id": "y6ISag2OhpPU",
        "outputId": "f1642dd7-f2b2-465b-b1d6-6ddef9191240"
      },
      "outputs": [
        {
          "data": {
            "image/png": "[encoded data removed]",
            "text/plain": [
              "<Figure size 800x700 with 1 Axes>"
            ]
          },
          "metadata": {},
          "output_type": "display_data"
        }
      ],
      "source": [
        "plt.plot(fpr1, tpr1, linestyle = '--', color ='blue', label = \"Logistic Regrrssion\")\n",
        "plt.plot(fpr2, tpr2, linestyle = \"--\", color = \"black\", label = \"SVM\")\n",
        "plt.plot(fpr3, tpr3, linestyle = \"--\", color = \"green\", label = \"Random Forest\")\n",
        "plt.plot(fpr4, tpr4, linestyle = \"--\", color = \"yellow\", label = \"KNN\")\n",
        "plt.plot(fpr5, tpr5, linestyle = \"--\", color = \"red\", label = \"Naive bayes\")\n",
        "\n",
        "plt.title('Receiver Operator Characteristics (ROC)')\n",
        "plt.xlabel('False Positive Rate')\n",
        "plt.ylabel('True Positive rate')\n",
        "\n",
        "plt.legend(loc = 'best')\n",
        "# plt.savefig('ROC', dpi = 600)\n",
        "plt.show()"
      ]
    },
    {
      "attachments": {},
      "cell_type": "markdown",
      "metadata": {},
      "source": [
        "# AUC scores\n"
      ]
    },
    {
      "cell_type": "code",
      "execution_count": 55,
      "metadata": {},
      "outputs": [
        {
          "name": "stdout",
          "output_type": "stream",
          "text": [
            "Logistic Regression:, 0.807\n",
            "Support Vector Machine, 0.795\n",
            "Random Forest:, 0.912\n",
            "K-Nearest Neighbors:, 0.557\n",
            "Naive Bayes:, 0.850\n"
          ]
        }
      ],
      "source": [
        "auc_score1 = roc_auc_score(y_test, model_LR.predict_proba(X_test)[:, 1])\n",
        "auc_score2 = roc_auc_score(y_test, model_svm.predict_proba(X_test)[:, 1])\n",
        "auc_score3 = roc_auc_score(y_test, model_RF.predict_proba(X_test)[:, 1])\n",
        "auc_score4 = roc_auc_score(y_test, model_knn.predict_proba(X_test)[:, 1])\n",
        "auc_score5 = roc_auc_score(y_test, model_gnb.predict_proba(X_test)[:, 1])\n",
        "\n",
        "print(\"Logistic Regression:, %.3f\" %auc_score1)         # Logistic Regression\n",
        "print(\"Support Vector Machine, %.3f\" %auc_score2)       # Support Vector Machine\n",
        "print(\"Random Forest:, %.3f\" %auc_score3)               # Random Forest\n",
        "print(\"K-Nearest Neighbors:, %.3f\" %auc_score4)         # K-Nearest Neighbors\n",
        "print(\"Naive Bayes:, %.3f\" %auc_score5)                 # Naive Bayes\n"
      ]
    },
    {
      "attachments": {},
      "cell_type": "markdown",
      "metadata": {},
      "source": [
        "# Precision-Recall graph"
      ]
    },
    {
      "cell_type": "code",
      "execution_count": 61,
      "metadata": {},
      "outputs": [
        {
          "data": {
            "text/plain": [
              "Text(0, 0.5, 'Recall')"
            ]
          },
          "execution_count": 61,
          "metadata": {},
          "output_type": "execute_result"
        },
        {
          "data": {
            "image/png": "[encoded data removed]",
            "text/plain": [
              "<Figure size 800x700 with 1 Axes>"
            ]
          },
          "metadata": {},
          "output_type": "display_data"
        }
      ],
      "source": [
        "from sklearn.metrics import precision_recall_curve\n",
        "\n",
        "precision, recall, thresholds = precision_recall_curve(y_test, model_RF.predict_proba(X_test)[:, 1] )\n",
        "plt.style.use('ggplot')\n",
        "\n",
        "plt.plot(precision, recall, linestyle = \"--\", color = \"black\", label = \"Random Forest\")\n",
        "\n",
        "plt.title('Precision-Recall Curve for Random Forest classifier')\n",
        "plt.xlabel('Precision')\n",
        "plt.ylabel('Recall')\n",
        "\n",
        "# plt.legend(loc = 'best')\n",
        "\n",
        "# plt.savefig('PrecRecCurve', dpi = 600)\n"
      ]
    },
    {
      "attachments": {},
      "cell_type": "markdown",
      "metadata": {},
      "source": [
        "### Changing default threshold of 0.5 to improve Recall score at the expense of Precision \n",
        "\n"
      ]
    },
    {
      "cell_type": "code",
      "execution_count": 57,
      "metadata": {},
      "outputs": [
        {
          "name": "stdout",
          "output_type": "stream",
          "text": [
            "0.708\n",
            "0.943\n",
            "At the threshold of 0.30 , the final recall is : 0.835 while the precision is: 0.808\n"
          ]
        }
      ],
      "source": [
        "\n",
        "#from ChatGPT \n",
        "# Predict the probabilities of churn for each customer\n",
        "y_prob = model_RF.predict_proba(X_test)[:, 1]\n",
        "\n",
        "# Set the threshold for classifying a customer as a positive case\n",
        "threshold = 0.5  # Default setting is 0.5\n",
        "y_pred = (y_prob >= threshold).astype(int)\n",
        "\n",
        "# Calculate the recall and precision at DEFAULT setting\n",
        "recall = recall_score(y_test, y_pred)\n",
        "precision = precision_score(y_test, y_pred)\n",
        "\n",
        "print('%0.3f' %recall)\n",
        "print('%0.3f' %precision)\n",
        "\n",
        "# Adjust the threshold to improve the recall \n",
        "desired_recall = 0.82   #looking at the precision-recall curve, this seems like a good point \n",
        "while recall < desired_recall:\n",
        "    threshold -= 0.05\n",
        "    y_pred = (y_prob >= threshold).astype(int)\n",
        "    recall = recall_score(y_test, y_pred)\n",
        "    precision = precision_score(y_test, y_pred)\n",
        "optim_threshold = threshold\n",
        "\n",
        "print('At the threshold of %0.2f' %optim_threshold, ', the final recall is : %0.3f' %recall, 'while the precision is: %0.3f' %precision)\n"
      ]
    },
    {
      "attachments": {},
      "cell_type": "markdown",
      "metadata": {},
      "source": [
        "## Our best classifier Random Forest is further analyzed\n"
      ]
    },
    {
      "attachments": {},
      "cell_type": "markdown",
      "metadata": {},
      "source": [
        "### Feature importance"
      ]
    },
    {
      "cell_type": "code",
      "execution_count": 58,
      "metadata": {},
      "outputs": [
        {
          "data": {
            "image/png": "[encoded data removed]",
            "text/plain": [
              "<Figure size 1400x500 with 1 Axes>"
            ]
          },
          "metadata": {},
          "output_type": "display_data"
        }
      ],
      "source": [
        "importance = model_RF.feature_importances_\n",
        "\n",
        "# summarize feature importance\n",
        "feat_scores = pd.DataFrame({\"Features\": model_RF.feature_importances_}, index = X.columns)\n",
        "feat_scores = feat_scores.sort_values(by = \"Features\") \n",
        "feat_scores.plot(kind = \"barh\", figsize = (14,5))\n",
        "\n",
        "plt.savefig('FeatImp', dpi = 600)\n"
      ]
    }
  ],
  "metadata": {
    "colab": {
      "provenance": []
    },
    "kernelspec": {
      "display_name": "Python 3",
      "language": "python",
      "name": "python3"
    },
    "language_info": {
      "codemirror_mode": {
        "name": "ipython",
        "version": 3
      },
      "file_extension": ".py",
      "mimetype": "text/x-python",
      "name": "python",
      "nbconvert_exporter": "python",
      "pygments_lexer": "ipython3",
      "version": "3.11.0"
    },
    "vscode": {
      "interpreter": {
        "hash": "8772536e3cbe85d74d3abe962f15a2d8dc7acd1d41662e28c4990e7b88d2f561"
      }
    }
  },
  "nbformat": 4,
  "nbformat_minor": 0
}
